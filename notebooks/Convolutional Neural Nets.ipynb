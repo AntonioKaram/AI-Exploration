{
  "cells": [
    {
      "cell_type": "markdown",
      "metadata": {
        "id": "D0ydyuT9qhqe"
      },
      "source": [
        "# Convolutional Neural Nets for image classification"
      ]
    },
    {
      "cell_type": "markdown",
      "metadata": {
        "id": "niL72-7859TH"
      },
      "source": [
        "# Background\n",
        "\n",
        "Here we will implement _transfer learning_.\n",
        "We are addressing the task of classifying small images into classes (10 of them), _using (most of) a neural network that was trained on 1000 classes_. $1000 \\neq 10$; that's why this is transfer learning! We will replace the 1000-class classifier part of that model with a 10-class classifier and keep the rest of the model unmodified.\n",
        "\n",
        "What are the ten classes? Here they are:\n",
        "\n",
        "![mnist](https://upload.wikimedia.org/wikipedia/commons/f/f7/MnistExamplesModified.png)\n",
        "\n",
        "Lots of little bitty images - each one is 28x28 pixels; each pixel is a single gray-scale value.\n",
        "\n",
        "We will learn how to import a trained neural network model from the PyTorch **Model Zoo**, discard the \"classification head\" of the model (preserving the convolutional early stages), add a new \"classification head\", and train it to do a good job."
      ]
    },
    {
      "cell_type": "code",
      "execution_count": null,
      "metadata": {
        "id": "3Frr6DAUqlWK"
      },
      "outputs": [],
      "source": [
        "import torch\n",
        "import torchvision\n",
        "import torchsummary\n",
        "import os\n",
        "import tqdm.notebook as tqdm\n",
        "import numpy as np\n",
        "import matplotlib.pyplot as plt\n",
        "import sklearn.metrics\n",
        "import random"
      ]
    },
    {
      "cell_type": "markdown",
      "metadata": {
        "id": "RvdWOOrK7NZe"
      },
      "source": [
        "1. Here's a flag named `verbose` that you can set to control how much verbosity is present in the output.\n",
        "\n",
        "2. Also here is a way to set a `device` variable. If you're running on a Colab instance with a GPU (try it! see below), `device` will be `cuda` (and training will run way way faster); otherwise, `device` will be `cpu`."
      ]
    },
    {
      "cell_type": "code",
      "execution_count": null,
      "metadata": {
        "colab": {
          "base_uri": "https://localhost:8080/"
        },
        "id": "x6m-C0qJ7Kox",
        "outputId": "31a1f2e0-16c2-4a88-c9ac-921edbdddd0d"
      },
      "outputs": [
        {
          "name": "stdout",
          "output_type": "stream",
          "text": [
            "We're running on the cuda.\n"
          ]
        }
      ],
      "source": [
        "verbose = True\n",
        "\n",
        "device = \"cuda\" if torch.cuda.is_available() else \"cpu\"\n",
        "if verbose: print(f\"We're running on the {device}.\")"
      ]
    },
    {
      "cell_type": "markdown",
      "metadata": {
        "id": "sbS0MO8n8lcG"
      },
      "source": [
        "# ResNet18\n",
        "\n",
        "TL;DR: We create an instance of the `torchvision.models.resnet18` model. It's named `resnet18`. We print its layout out if we're in verbose mode.\n",
        "\n",
        "\n",
        "The ResNet family of models are convolutional neural networks that have been used for various visual processing tasks.\n",
        "\n",
        "Here's the arXiv article about ResNet: https://arxiv.org/abs/1512.03385\n",
        "\n",
        "We're using the \"shallowest\" ResNet model here (ResNet18) because we don't have a lot of data to fine tune it.\n",
        "\n",
        "Luckily for us (?), PyTorch's `torchvision` library has a \"Model Zoo\" with many models in it; we can get just a model and train it ourselves, or get a pretrained model with weights optimized for an interesting task. We'll do the latter. When you run this the first time, a download will be triggered to get the model (44.7 MBytes) into your runtime.\n",
        "\n",
        " This ResNet was trained for visual object classification – it takes small square color images of an appropriate size and classifies them as belonging to one of 1000 different classes. Follow this link to get a look at the different classes used to train ResNet: https://raw.githubusercontent.com/pytorch/hub/master/imagenet_classes.txt\n",
        "\n",
        "More info (including sample code!) on ResNet here: https://pytorch.org/hub/pytorch_vision_resnet/\n",
        "\n",
        "After loading the model, we print the instance for a terse summary of the architecture."
      ]
    },
    {
      "cell_type": "code",
      "execution_count": null,
      "metadata": {
        "colab": {
          "base_uri": "https://localhost:8080/"
        },
        "id": "OJGgTv93sBFQ",
        "outputId": "5b3e1c04-a202-4875-9faf-bbb3a9a440f6"
      },
      "outputs": [
        {
          "name": "stderr",
          "output_type": "stream",
          "text": [
            "/usr/local/lib/python3.10/dist-packages/torchvision/models/_utils.py:208: UserWarning: The parameter 'pretrained' is deprecated since 0.13 and may be removed in the future, please use 'weights' instead.\n",
            "  warnings.warn(\n",
            "/usr/local/lib/python3.10/dist-packages/torchvision/models/_utils.py:223: UserWarning: Arguments other than a weight enum or `None` for 'weights' are deprecated since 0.13 and may be removed in the future. The current behavior is equivalent to passing `weights=ResNet18_Weights.IMAGENET1K_V1`. You can also use `weights=ResNet18_Weights.DEFAULT` to get the most up-to-date weights.\n",
            "  warnings.warn(msg)\n",
            "Downloading: \"https://download.pytorch.org/models/resnet18-f37072fd.pth\" to /root/.cache/torch/hub/checkpoints/resnet18-f37072fd.pth\n",
            "100%|██████████| 44.7M/44.7M [00:00<00:00, 167MB/s]\n"
          ]
        },
        {
          "name": "stdout",
          "output_type": "stream",
          "text": [
            "The ResNet18 model looks like this:\n",
            "ResNet(\n",
            "  (conv1): Conv2d(3, 64, kernel_size=(7, 7), stride=(2, 2), padding=(3, 3), bias=False)\n",
            "  (bn1): BatchNorm2d(64, eps=1e-05, momentum=0.1, affine=True, track_running_stats=True)\n",
            "  (relu): ReLU(inplace=True)\n",
            "  (maxpool): MaxPool2d(kernel_size=3, stride=2, padding=1, dilation=1, ceil_mode=False)\n",
            "  (layer1): Sequential(\n",
            "    (0): BasicBlock(\n",
            "      (conv1): Conv2d(64, 64, kernel_size=(3, 3), stride=(1, 1), padding=(1, 1), bias=False)\n",
            "      (bn1): BatchNorm2d(64, eps=1e-05, momentum=0.1, affine=True, track_running_stats=True)\n",
            "      (relu): ReLU(inplace=True)\n",
            "      (conv2): Conv2d(64, 64, kernel_size=(3, 3), stride=(1, 1), padding=(1, 1), bias=False)\n",
            "      (bn2): BatchNorm2d(64, eps=1e-05, momentum=0.1, affine=True, track_running_stats=True)\n",
            "    )\n",
            "    (1): BasicBlock(\n",
            "      (conv1): Conv2d(64, 64, kernel_size=(3, 3), stride=(1, 1), padding=(1, 1), bias=False)\n",
            "      (bn1): BatchNorm2d(64, eps=1e-05, momentum=0.1, affine=True, track_running_stats=True)\n",
            "      (relu): ReLU(inplace=True)\n",
            "      (conv2): Conv2d(64, 64, kernel_size=(3, 3), stride=(1, 1), padding=(1, 1), bias=False)\n",
            "      (bn2): BatchNorm2d(64, eps=1e-05, momentum=0.1, affine=True, track_running_stats=True)\n",
            "    )\n",
            "  )\n",
            "  (layer2): Sequential(\n",
            "    (0): BasicBlock(\n",
            "      (conv1): Conv2d(64, 128, kernel_size=(3, 3), stride=(2, 2), padding=(1, 1), bias=False)\n",
            "      (bn1): BatchNorm2d(128, eps=1e-05, momentum=0.1, affine=True, track_running_stats=True)\n",
            "      (relu): ReLU(inplace=True)\n",
            "      (conv2): Conv2d(128, 128, kernel_size=(3, 3), stride=(1, 1), padding=(1, 1), bias=False)\n",
            "      (bn2): BatchNorm2d(128, eps=1e-05, momentum=0.1, affine=True, track_running_stats=True)\n",
            "      (downsample): Sequential(\n",
            "        (0): Conv2d(64, 128, kernel_size=(1, 1), stride=(2, 2), bias=False)\n",
            "        (1): BatchNorm2d(128, eps=1e-05, momentum=0.1, affine=True, track_running_stats=True)\n",
            "      )\n",
            "    )\n",
            "    (1): BasicBlock(\n",
            "      (conv1): Conv2d(128, 128, kernel_size=(3, 3), stride=(1, 1), padding=(1, 1), bias=False)\n",
            "      (bn1): BatchNorm2d(128, eps=1e-05, momentum=0.1, affine=True, track_running_stats=True)\n",
            "      (relu): ReLU(inplace=True)\n",
            "      (conv2): Conv2d(128, 128, kernel_size=(3, 3), stride=(1, 1), padding=(1, 1), bias=False)\n",
            "      (bn2): BatchNorm2d(128, eps=1e-05, momentum=0.1, affine=True, track_running_stats=True)\n",
            "    )\n",
            "  )\n",
            "  (layer3): Sequential(\n",
            "    (0): BasicBlock(\n",
            "      (conv1): Conv2d(128, 256, kernel_size=(3, 3), stride=(2, 2), padding=(1, 1), bias=False)\n",
            "      (bn1): BatchNorm2d(256, eps=1e-05, momentum=0.1, affine=True, track_running_stats=True)\n",
            "      (relu): ReLU(inplace=True)\n",
            "      (conv2): Conv2d(256, 256, kernel_size=(3, 3), stride=(1, 1), padding=(1, 1), bias=False)\n",
            "      (bn2): BatchNorm2d(256, eps=1e-05, momentum=0.1, affine=True, track_running_stats=True)\n",
            "      (downsample): Sequential(\n",
            "        (0): Conv2d(128, 256, kernel_size=(1, 1), stride=(2, 2), bias=False)\n",
            "        (1): BatchNorm2d(256, eps=1e-05, momentum=0.1, affine=True, track_running_stats=True)\n",
            "      )\n",
            "    )\n",
            "    (1): BasicBlock(\n",
            "      (conv1): Conv2d(256, 256, kernel_size=(3, 3), stride=(1, 1), padding=(1, 1), bias=False)\n",
            "      (bn1): BatchNorm2d(256, eps=1e-05, momentum=0.1, affine=True, track_running_stats=True)\n",
            "      (relu): ReLU(inplace=True)\n",
            "      (conv2): Conv2d(256, 256, kernel_size=(3, 3), stride=(1, 1), padding=(1, 1), bias=False)\n",
            "      (bn2): BatchNorm2d(256, eps=1e-05, momentum=0.1, affine=True, track_running_stats=True)\n",
            "    )\n",
            "  )\n",
            "  (layer4): Sequential(\n",
            "    (0): BasicBlock(\n",
            "      (conv1): Conv2d(256, 512, kernel_size=(3, 3), stride=(2, 2), padding=(1, 1), bias=False)\n",
            "      (bn1): BatchNorm2d(512, eps=1e-05, momentum=0.1, affine=True, track_running_stats=True)\n",
            "      (relu): ReLU(inplace=True)\n",
            "      (conv2): Conv2d(512, 512, kernel_size=(3, 3), stride=(1, 1), padding=(1, 1), bias=False)\n",
            "      (bn2): BatchNorm2d(512, eps=1e-05, momentum=0.1, affine=True, track_running_stats=True)\n",
            "      (downsample): Sequential(\n",
            "        (0): Conv2d(256, 512, kernel_size=(1, 1), stride=(2, 2), bias=False)\n",
            "        (1): BatchNorm2d(512, eps=1e-05, momentum=0.1, affine=True, track_running_stats=True)\n",
            "      )\n",
            "    )\n",
            "    (1): BasicBlock(\n",
            "      (conv1): Conv2d(512, 512, kernel_size=(3, 3), stride=(1, 1), padding=(1, 1), bias=False)\n",
            "      (bn1): BatchNorm2d(512, eps=1e-05, momentum=0.1, affine=True, track_running_stats=True)\n",
            "      (relu): ReLU(inplace=True)\n",
            "      (conv2): Conv2d(512, 512, kernel_size=(3, 3), stride=(1, 1), padding=(1, 1), bias=False)\n",
            "      (bn2): BatchNorm2d(512, eps=1e-05, momentum=0.1, affine=True, track_running_stats=True)\n",
            "    )\n",
            "  )\n",
            "  (avgpool): AdaptiveAvgPool2d(output_size=(1, 1))\n",
            "  (fc): Linear(in_features=512, out_features=1000, bias=True)\n",
            ")\n"
          ]
        }
      ],
      "source": [
        "resnet18 = torchvision.models.resnet18(pretrained=True)\n",
        "if verbose: print(f'The ResNet18 model looks like this:\\n{resnet18}')"
      ]
    },
    {
      "cell_type": "markdown",
      "metadata": {
        "id": "Z_CuU9e4s0Cg"
      },
      "source": [
        "That text summary gives some hints on accessing parts of the model. Some layers have nested descriptions, and you can follow the nesting in the instance using more dots in the slot name. If an integer like `(0)` starts a line, you use it as an index. Thus, your code can access layers like this: `resnet18.fc`, `resnet18.layer1`, `resnet18.layer3[1].conv2`, `resnet18.layer4[0].downsample[0]`, and so on. By using these names, you can change the architecture of the resnet by writing to the slot for the part you want to change.\n",
        "\n",
        "Graphical depiction of ResNet18:\n",
        "![resnet18](https://miro.medium.com/v2/resize:fit:1400/format:webp/1*OkpgHpmqDuor9FKay8_9hQ.png)\n",
        "\n",
        "You should be able to correspond the convolutional layers in the text summary to the blocks in the figure.\n",
        "\n",
        "The weird loopy connections that jump over layers are the \"Res\" part of Resnet; they convert the block of layers into a \"Residual\" block which has certain advantages."
      ]
    },
    {
      "cell_type": "markdown",
      "metadata": {
        "id": "gLDbpjP1_ywo"
      },
      "source": [
        "# 1. Replacing the classification head\n",
        "\n",
        "TL;DR: Replace the resnet18 model's `fc` slot with a new `Linear` layer with 10 output nodes.\n",
        "\n",
        "We can view the ResNet model as having two parts:\n",
        " + a \"backbone\" that generates a feature vector by repeated convolutions, maxpooling, etc.  In goes an image, out comes a vector that we can treat as a pattern to be classified.\n",
        " + a fully-connected classification network (aka a \"classification head\") that takes the feature vector and performs classification.\n",
        "\n",
        "The ResNet18 pre-trained model we instantiated was trained on 1000 classes. We can tell by looking at the final classification layer (also known as the \"classification head\" - it has 1000 neurons, one per class. It was printed above (if we're verbose); let's print it again here. Pay attention to the number of inputs and outputs."
      ]
    },
    {
      "cell_type": "code",
      "execution_count": null,
      "metadata": {
        "colab": {
          "base_uri": "https://localhost:8080/"
        },
        "id": "1cEWf9FktCtd",
        "outputId": "d29ff32d-e29f-488a-a038-3891742d679b"
      },
      "outputs": [
        {
          "name": "stdout",
          "output_type": "stream",
          "text": [
            "Resnet fc layer: Linear(in_features=512, out_features=1000, bias=True)\n"
          ]
        }
      ],
      "source": [
        "print(f'Resnet fc layer: {resnet18.fc}')"
      ]
    },
    {
      "cell_type": "markdown",
      "metadata": {
        "id": "YJqfm3ubCzci"
      },
      "source": [
        "`resnet18.fc` is a slot in an object and it is assignable. If you assign `resnet18.fc` to some other thing, that thing is assumed to be a layer that has the correct number of inputs and replaces the 1000-node `Linear` layer that's present by default.\n",
        "\n",
        "Replace the default FC layer with a `Linear` layer with `resnet18.fc.in_features` inputs and 10 outputs.  Then print `resnet18.fc` again to verufy that your change to the `fc` layer was made.\n"
      ]
    },
    {
      "cell_type": "code",
      "execution_count": null,
      "metadata": {
        "colab": {
          "base_uri": "https://localhost:8080/"
        },
        "id": "eOGUrLUvtq7A",
        "outputId": "f78a1e4d-38bb-44e6-97e8-e9f3266d3efe"
      },
      "outputs": [
        {
          "name": "stdout",
          "output_type": "stream",
          "text": [
            "Updated ResNet18 fc layer: Linear(in_features=512, out_features=10, bias=True)\n"
          ]
        }
      ],
      "source": [
        "# Replace the default FC layer with a new Linear layer\n",
        "resnet18.fc = torch.nn.Linear(in_features=resnet18.fc.in_features, out_features=10)\n",
        "\n",
        "# Verify the change\n",
        "print(f\"Updated ResNet18 fc layer: {resnet18.fc}\")"
      ]
    },
    {
      "cell_type": "markdown",
      "metadata": {
        "id": "syLyWRFcD4-W"
      },
      "source": [
        "# 2. GPUize if possible\n",
        "\n",
        "If we have a GPU, we should use it. In order to use it, we have to move the model to it, and when we're training and testing it, we need to move the data to it. `.to()` is the method that does this.  You move a model named `foo` to a device `device` with the idiom `foo = foo.to(device)`. Similarly, you move a tensor to the device using something like `x = x.to(device)`. If `device` is `cpu`, this will work (it won't do anything, but it won't throw an error)."
      ]
    },
    {
      "cell_type": "code",
      "execution_count": null,
      "metadata": {
        "colab": {
          "base_uri": "https://localhost:8080/"
        },
        "id": "qj8lNiMSWcnt",
        "outputId": "675a81cd-c48a-43fd-e9b1-0b32c2c05059"
      },
      "outputs": [
        {
          "name": "stdout",
          "output_type": "stream",
          "text": [
            "ResNet18 model moved to cuda.\n"
          ]
        }
      ],
      "source": [
        "# Move the ResNet18 model to the specified device (either \"cuda\" or \"cpu\")\n",
        "resnet18 = resnet18.to(device)\n",
        "\n",
        "# Verify the device\n",
        "print(f\"ResNet18 model moved to {device}.\")"
      ]
    },
    {
      "cell_type": "markdown",
      "metadata": {
        "id": "XwtyJ8oDEqWH"
      },
      "source": [
        "# 3. Report\n",
        "\n",
        "`torchsummary.summary(model,size)` will print out a table of parameters and output tensor shapes by layer, along with a summary. Run `torchsummary.summary()` on the network with a size of `(3, 32,32)` (three channels per pixel; 32x32 pixels in the image) to determine how many parameters are present in the ResNet18 model. Based on that number and the \"params size\" in megabytes, how many bytes are occupied by each parameter?"
      ]
    },
    {
      "cell_type": "code",
      "execution_count": null,
      "metadata": {
        "colab": {
          "base_uri": "https://localhost:8080/"
        },
        "id": "6hUhRVq8PFXT",
        "outputId": "d39a0f64-6114-4674-d95c-24c72f2010f3"
      },
      "outputs": [
        {
          "name": "stdout",
          "output_type": "stream",
          "text": [
            "----------------------------------------------------------------\n",
            "        Layer (type)               Output Shape         Param #\n",
            "================================================================\n",
            "            Conv2d-1           [-1, 64, 16, 16]           9,408\n",
            "       BatchNorm2d-2           [-1, 64, 16, 16]             128\n",
            "              ReLU-3           [-1, 64, 16, 16]               0\n",
            "         MaxPool2d-4             [-1, 64, 8, 8]               0\n",
            "            Conv2d-5             [-1, 64, 8, 8]          36,864\n",
            "       BatchNorm2d-6             [-1, 64, 8, 8]             128\n",
            "              ReLU-7             [-1, 64, 8, 8]               0\n",
            "            Conv2d-8             [-1, 64, 8, 8]          36,864\n",
            "       BatchNorm2d-9             [-1, 64, 8, 8]             128\n",
            "             ReLU-10             [-1, 64, 8, 8]               0\n",
            "       BasicBlock-11             [-1, 64, 8, 8]               0\n",
            "           Conv2d-12             [-1, 64, 8, 8]          36,864\n",
            "      BatchNorm2d-13             [-1, 64, 8, 8]             128\n",
            "             ReLU-14             [-1, 64, 8, 8]               0\n",
            "           Conv2d-15             [-1, 64, 8, 8]          36,864\n",
            "      BatchNorm2d-16             [-1, 64, 8, 8]             128\n",
            "             ReLU-17             [-1, 64, 8, 8]               0\n",
            "       BasicBlock-18             [-1, 64, 8, 8]               0\n",
            "           Conv2d-19            [-1, 128, 4, 4]          73,728\n",
            "      BatchNorm2d-20            [-1, 128, 4, 4]             256\n",
            "             ReLU-21            [-1, 128, 4, 4]               0\n",
            "           Conv2d-22            [-1, 128, 4, 4]         147,456\n",
            "      BatchNorm2d-23            [-1, 128, 4, 4]             256\n",
            "           Conv2d-24            [-1, 128, 4, 4]           8,192\n",
            "      BatchNorm2d-25            [-1, 128, 4, 4]             256\n",
            "             ReLU-26            [-1, 128, 4, 4]               0\n",
            "       BasicBlock-27            [-1, 128, 4, 4]               0\n",
            "           Conv2d-28            [-1, 128, 4, 4]         147,456\n",
            "      BatchNorm2d-29            [-1, 128, 4, 4]             256\n",
            "             ReLU-30            [-1, 128, 4, 4]               0\n",
            "           Conv2d-31            [-1, 128, 4, 4]         147,456\n",
            "      BatchNorm2d-32            [-1, 128, 4, 4]             256\n",
            "             ReLU-33            [-1, 128, 4, 4]               0\n",
            "       BasicBlock-34            [-1, 128, 4, 4]               0\n",
            "           Conv2d-35            [-1, 256, 2, 2]         294,912\n",
            "      BatchNorm2d-36            [-1, 256, 2, 2]             512\n",
            "             ReLU-37            [-1, 256, 2, 2]               0\n",
            "           Conv2d-38            [-1, 256, 2, 2]         589,824\n",
            "      BatchNorm2d-39            [-1, 256, 2, 2]             512\n",
            "           Conv2d-40            [-1, 256, 2, 2]          32,768\n",
            "      BatchNorm2d-41            [-1, 256, 2, 2]             512\n",
            "             ReLU-42            [-1, 256, 2, 2]               0\n",
            "       BasicBlock-43            [-1, 256, 2, 2]               0\n",
            "           Conv2d-44            [-1, 256, 2, 2]         589,824\n",
            "      BatchNorm2d-45            [-1, 256, 2, 2]             512\n",
            "             ReLU-46            [-1, 256, 2, 2]               0\n",
            "           Conv2d-47            [-1, 256, 2, 2]         589,824\n",
            "      BatchNorm2d-48            [-1, 256, 2, 2]             512\n",
            "             ReLU-49            [-1, 256, 2, 2]               0\n",
            "       BasicBlock-50            [-1, 256, 2, 2]               0\n",
            "           Conv2d-51            [-1, 512, 1, 1]       1,179,648\n",
            "      BatchNorm2d-52            [-1, 512, 1, 1]           1,024\n",
            "             ReLU-53            [-1, 512, 1, 1]               0\n",
            "           Conv2d-54            [-1, 512, 1, 1]       2,359,296\n",
            "      BatchNorm2d-55            [-1, 512, 1, 1]           1,024\n",
            "           Conv2d-56            [-1, 512, 1, 1]         131,072\n",
            "      BatchNorm2d-57            [-1, 512, 1, 1]           1,024\n",
            "             ReLU-58            [-1, 512, 1, 1]               0\n",
            "       BasicBlock-59            [-1, 512, 1, 1]               0\n",
            "           Conv2d-60            [-1, 512, 1, 1]       2,359,296\n",
            "      BatchNorm2d-61            [-1, 512, 1, 1]           1,024\n",
            "             ReLU-62            [-1, 512, 1, 1]               0\n",
            "           Conv2d-63            [-1, 512, 1, 1]       2,359,296\n",
            "      BatchNorm2d-64            [-1, 512, 1, 1]           1,024\n",
            "             ReLU-65            [-1, 512, 1, 1]               0\n",
            "       BasicBlock-66            [-1, 512, 1, 1]               0\n",
            "AdaptiveAvgPool2d-67            [-1, 512, 1, 1]               0\n",
            "           Linear-68                 [-1, 1000]         513,000\n",
            "================================================================\n",
            "Total params: 11,689,512\n",
            "Trainable params: 11,689,512\n",
            "Non-trainable params: 0\n",
            "----------------------------------------------------------------\n",
            "Input size (MB): 0.01\n",
            "Forward/backward pass size (MB): 1.29\n",
            "Params size (MB): 44.59\n",
            "Estimated Total Size (MB): 45.90\n",
            "----------------------------------------------------------------\n"
          ]
        }
      ],
      "source": [
        "# Three channels (RGB) and 32x32 pixels\n",
        "input_size = (3, 32, 32)\n",
        "torchsummary.summary(resnet18, input_size)"
      ]
    },
    {
      "cell_type": "markdown",
      "metadata": {
        "id": "ijP6UWskzHdL"
      },
      "source": [
        "Param Size in Megabytes: 44.59 megabytes.\n",
        "\n",
        "Number of Parameters: 11,689,512 parameters.\n",
        "\n",
        "Bytes per Parameter:\n",
        "$$ \\frac{44.59 \\text{MB}}{11,689,512} $$\n",
        "\n",
        "Each parameter in the ResNet18 model occupies approximately 3.81453 bytes."
      ]
    },
    {
      "cell_type": "markdown",
      "metadata": {
        "id": "t-ghqatHwAdq"
      },
      "source": [
        "# 4. Freeze the backbone; train only the new classification head\n",
        "\n",
        "TL;DR: use the idioms below to freeze all parameters in the model and then unfreeze the parameters in the FC layer you just created.\n",
        "\n",
        "It's commonly assumed (with decent justification through experiments) that the popular image-classification backbines like ResNet, VGG, etc. generate good generic feature vectors that can discriminate between lots of different things in the input images. We're going to exploit that by agreeing with the assumption and tuning only a fully-connected layer, operating on the 512-dimensional feature vector produced by the backbone, to discriminate between the classes in this 10- lass problem. We're going to **freeze** the backbone part of the model, which will cause training to run faster because the parameters in the convolutional layers won't be trained.\n",
        "\n",
        "The idiom to freeze everything in a net is:\n",
        "\n",
        "```\n",
        "for param in resnet18.parameters():\n",
        "    param.requires_grad = False\n",
        "```\n",
        "\n",
        "Now that code will freeze **all** of the parameters including those of the fc layer we replaced above. We don't want to be frozen, so we'll have to unfreeze them.  Luckily, the parameters for individual parts (layers) of a model can be accessed using the instance variables we discussed above.\n",
        "\n",
        "```\n",
        "for param in resnet18.fc.parameters():\n",
        "    param.requires_grad = True\n",
        "````\n",
        "\n",
        "Doing this to ResNet18 net below."
      ]
    },
    {
      "cell_type": "code",
      "execution_count": null,
      "metadata": {
        "id": "ngwrOuynwUSv"
      },
      "outputs": [],
      "source": [
        "# Freeze\n",
        "for param in resnet18.parameters():\n",
        "    param.requires_grad = False\n",
        "\n",
        "# Unfreeze\n",
        "for param in resnet18.fc.parameters():\n",
        "    param.requires_grad = True"
      ]
    },
    {
      "cell_type": "markdown",
      "metadata": {
        "id": "XPOrh7Pawrtb"
      },
      "source": [
        "## Data\n",
        "\n",
        "We're using a labeled data set called MNIST that contains a bunch of small, grayscale, 28x28 images of handprinted digits, 0 through 9. The digit value is the class number; all images of '4' are class 4, _etc._\n",
        "\n",
        "The MNIST data set is pre-partitioned into training and testing sets. We'll train the net on training data, in mini-batches provided by a `DataLoader`. The fiddly details are not of interest in this assignment (and there are plenty of online tutorials on them) so this code is provided for free.\n",
        "\n",
        "When you run this the first time in a session, the data will be downloaded to your runtime."
      ]
    },
    {
      "cell_type": "code",
      "execution_count": null,
      "metadata": {
        "colab": {
          "base_uri": "https://localhost:8080/"
        },
        "id": "KMzgBoyvKgpe",
        "outputId": "a607db2f-a268-4e4e-f014-558c1a9fdedf"
      },
      "outputs": [
        {
          "name": "stdout",
          "output_type": "stream",
          "text": [
            "Downloading http://yann.lecun.com/exdb/mnist/train-images-idx3-ubyte.gz\n",
            "Downloading http://yann.lecun.com/exdb/mnist/train-images-idx3-ubyte.gz to ./mnist/MNIST/raw/train-images-idx3-ubyte.gz\n"
          ]
        },
        {
          "name": "stderr",
          "output_type": "stream",
          "text": [
            "100%|██████████| 9912422/9912422 [04:55<00:00, 33567.00it/s]\n"
          ]
        },
        {
          "name": "stdout",
          "output_type": "stream",
          "text": [
            "Extracting ./mnist/MNIST/raw/train-images-idx3-ubyte.gz to ./mnist/MNIST/raw\n",
            "\n",
            "Downloading http://yann.lecun.com/exdb/mnist/train-labels-idx1-ubyte.gz\n",
            "Downloading http://yann.lecun.com/exdb/mnist/train-labels-idx1-ubyte.gz to ./mnist/MNIST/raw/train-labels-idx1-ubyte.gz\n"
          ]
        },
        {
          "name": "stderr",
          "output_type": "stream",
          "text": [
            "100%|██████████| 28881/28881 [00:00<00:00, 361321.89it/s]\n"
          ]
        },
        {
          "name": "stdout",
          "output_type": "stream",
          "text": [
            "Extracting ./mnist/MNIST/raw/train-labels-idx1-ubyte.gz to ./mnist/MNIST/raw\n",
            "\n",
            "Downloading http://yann.lecun.com/exdb/mnist/t10k-images-idx3-ubyte.gz\n",
            "Downloading http://yann.lecun.com/exdb/mnist/t10k-images-idx3-ubyte.gz to ./mnist/MNIST/raw/t10k-images-idx3-ubyte.gz\n"
          ]
        },
        {
          "name": "stderr",
          "output_type": "stream",
          "text": [
            "100%|██████████| 1648877/1648877 [00:48<00:00, 33942.74it/s]\n"
          ]
        },
        {
          "name": "stdout",
          "output_type": "stream",
          "text": [
            "Extracting ./mnist/MNIST/raw/t10k-images-idx3-ubyte.gz to ./mnist/MNIST/raw\n",
            "\n",
            "Downloading http://yann.lecun.com/exdb/mnist/t10k-labels-idx1-ubyte.gz\n",
            "Downloading http://yann.lecun.com/exdb/mnist/t10k-labels-idx1-ubyte.gz to ./mnist/MNIST/raw/t10k-labels-idx1-ubyte.gz\n"
          ]
        },
        {
          "name": "stderr",
          "output_type": "stream",
          "text": [
            "100%|██████████| 4542/4542 [00:00<00:00, 22255290.62it/s]"
          ]
        },
        {
          "name": "stdout",
          "output_type": "stream",
          "text": [
            "Extracting ./mnist/MNIST/raw/t10k-labels-idx1-ubyte.gz to ./mnist/MNIST/raw\n",
            "\n"
          ]
        },
        {
          "name": "stderr",
          "output_type": "stream",
          "text": [
            "\n"
          ]
        }
      ],
      "source": [
        "# Set up the training data.\n",
        "\n",
        "# First, get the data set - the first time this is done in a fresh runtime, it will trigger a download.\n",
        "\n",
        "# The pipeline of transforms takes the images, converts them to PyTorch tensors,\n",
        "# normalizes them to zero mean and unit standard deviation, resizes them to 32x32,\n",
        "# and converts them from grayscale (1-channel) to color (3-channel) with red=green=blue\n",
        "train_dataset = torchvision.datasets.MNIST('./mnist/', train=True, download=True,\n",
        "                                           transform=torchvision.transforms.Compose([\n",
        "                                               torchvision.transforms.ToTensor(),\n",
        "                                               torchvision.transforms.Normalize((0.1307,), (0.3081,)),\n",
        "                                               torchvision.transforms.Resize((32,32)),\n",
        "                                               torchvision.transforms.Lambda(lambda x: x.repeat(3, 1, 1))\n",
        "                                               ])\n",
        "                                           )\n",
        "\n",
        "# Now, wrap the dataset in a DataLoader. The DataLoader is an iterable. Each iteration will give us 64\n",
        "# randomly chosen images.\n",
        "\n",
        "batch_size_train = 64\n",
        "train_dataloader = torch.utils.data.DataLoader(train_dataset, batch_size=batch_size_train, shuffle=True)"
      ]
    },
    {
      "cell_type": "code",
      "execution_count": null,
      "metadata": {
        "id": "IAEo3oA-2wlO"
      },
      "outputs": [],
      "source": [
        "# now load the MNIST test data and wrap it in a DataLoader.\n",
        "#\n",
        "# batch size is bigger (1000 images at a time) than train_data\n",
        "#\n",
        "\n",
        "\n",
        "test_dataset = torchvision.datasets.MNIST('./mnist/', train=False, download=True,\n",
        "                                          transform=torchvision.transforms.Compose([\n",
        "                                              torchvision.transforms.ToTensor(),\n",
        "                                              torchvision.transforms.Normalize((0.1307,), (0.3081,)),\n",
        "                                              torchvision.transforms.Resize((32,32)),\n",
        "                                              torchvision.transforms.Lambda(lambda x: x.repeat(3, 1, 1))\n",
        "                                              ])\n",
        "                                          )\n",
        "\n",
        "batch_size_test = 1000\n",
        "test_dataloader = torch.utils.data.DataLoader(test_dataset,batch_size=batch_size_test, shuffle=True)"
      ]
    },
    {
      "cell_type": "markdown",
      "metadata": {
        "id": "EjFUCFKHbbgE"
      },
      "source": [
        "This code renders a few sample images from the training data set, with the class labels in the title.\n",
        "The warning message is triggered by the normalization, which I'm too lazy to fix."
      ]
    },
    {
      "cell_type": "code",
      "execution_count": null,
      "metadata": {
        "colab": {
          "base_uri": "https://localhost:8080/",
          "height": 238
        },
        "id": "35DLMM3tXoXF",
        "outputId": "e3859768-721a-41e2-db75-55717be67374"
      },
      "outputs": [
        {
          "name": "stderr",
          "output_type": "stream",
          "text": [
            "WARNING:matplotlib.image:Clipping input data to the valid range for imshow with RGB data ([0..1] for floats or [0..255] for integers).\n",
            "WARNING:matplotlib.image:Clipping input data to the valid range for imshow with RGB data ([0..1] for floats or [0..255] for integers).\n",
            "WARNING:matplotlib.image:Clipping input data to the valid range for imshow with RGB data ([0..1] for floats or [0..255] for integers).\n",
            "WARNING:matplotlib.image:Clipping input data to the valid range for imshow with RGB data ([0..1] for floats or [0..255] for integers).\n"
          ]
        },
        {
          "data": {
            "image/png": "[encoded data removed]",
            "text/plain": [
              "<Figure size 640x480 with 4 Axes>"
            ]
          },
          "metadata": {},
          "output_type": "display_data"
        }
      ],
      "source": [
        "# plot some images.\n",
        "l = len(train_dataset)\n",
        "fig,axs = plt.subplots(nrows=1,ncols=4)\n",
        "for ax in axs:\n",
        "    ax.axis('off')\n",
        "    (x,lab) = train_dataset[random.randint(0,l-1)]\n",
        "    ax.imshow(x.permute(1,2,0).numpy())\n",
        "    ax.title.set_text(f'Class label: {lab}')\n",
        "plt.show()\n"
      ]
    },
    {
      "cell_type": "markdown",
      "metadata": {
        "id": "LpfmI7gW4-hQ"
      },
      "source": [
        "# 5. Training Setup\n",
        "\n",
        "Now we write code to support training of the classification head of the model.\n",
        "\n",
        "a. for the loss, use `torch.nn.CrossEntropyLoss()`\n",
        "\n",
        "b. for the optimizer, use `torch.optim.SGD()` with your model's parameters, a learning rate of 0.0001, and a momentum of 0.9.\n",
        "\n",
        "c. add code to move `data` and `label` (obtained from the dataloader) to the `device`.\n",
        "\n",
        "d. add code to get the output of the network for the input `data`\n",
        "\n",
        "e. add the one liner to use the calculated loss to trigger calculation of the gradients for the trainable parameters."
      ]
    },
    {
      "cell_type": "code",
      "execution_count": null,
      "metadata": {
        "id": "9LsBWRyXtCFX"
      },
      "outputs": [],
      "source": [
        "# a. specify loss\n",
        "loss = torch.nn.CrossEntropyLoss()\n",
        "\n",
        "\n",
        "# b. specify optimizer\n",
        "optimizer = torch.optim.SGD(resnet18.parameters(), lr=0.0001, momentum=0.9)\n",
        "\n",
        "\n",
        "def train_one_epoch(net, train_loader, optimizer, loss, epoch_idx):\n",
        "    net.train()  # Put the net in training mode\n",
        "    losses = []\n",
        "    for batch_idx, (data, label) in tqdm.tqdm(enumerate(train_loader), total=len(train_loader)):\n",
        "        # c. Move data and label to device\n",
        "        data, label = data.to(device), label.to(device)\n",
        "\n",
        "        # Clear the optimizer's gradient estimate\n",
        "        optimizer.zero_grad()\n",
        "\n",
        "        # d. Compute output of net from data\n",
        "        output = net(data)\n",
        "\n",
        "        # Compute loss from net output and known labels\n",
        "        # Loss is an object; use l.item() to get its value\n",
        "        l = loss(output, label)\n",
        "\n",
        "        # e. Use the loss to trigger calculation of gradients\n",
        "        l.backward()\n",
        "\n",
        "        # Update optimizer state\n",
        "        optimizer.step()\n",
        "        losses.append(l.item())\n",
        "\n",
        "    print(f'Average loss for epoch {epoch_idx}: {np.mean(losses)}')\n",
        "    return losses"
      ]
    },
    {
      "cell_type": "markdown",
      "metadata": {
        "id": "pqYUicegPQ0x"
      },
      "source": [
        "Reset the weights in the fc part of the model so we can train it from scratch"
      ]
    },
    {
      "cell_type": "code",
      "execution_count": null,
      "metadata": {
        "id": "J2roIM_YRphI"
      },
      "outputs": [],
      "source": [
        "def reset_fc_weights(m):\n",
        "    m.fc.reset_parameters()"
      ]
    },
    {
      "cell_type": "markdown",
      "metadata": {
        "id": "w8VuiAQ_DIsj"
      },
      "source": [
        "# 6. Perform Training\n",
        "\n",
        "Runing the trainer for five epochs.  \n",
        "\n",
        "This is a short piece of code that does the following:\n",
        " + reset the weights using the function above.\n",
        " + create an empty list that will hold all of the per-batch, per-epoch losses calculated by `train_one_epoch()`\n",
        " + loop 5 times:\n",
        "  - run train_one_epoch, appending the results to the list\n",
        " + as feedback, print out the starting and ending elements of the vector of losses you saved.\n",
        "\n",
        "Training may take a while, especially on the CPU. Data point: On an L4 GPU, this takes 30 seconds per epoch. CPU will be much slower."
      ]
    },
    {
      "cell_type": "code",
      "execution_count": null,
      "metadata": {
        "colab": {
          "base_uri": "https://localhost:8080/",
          "height": 302,
          "referenced_widgets": [
            "da089961224842129147dc597febb9bb",
            "a8c2797aff8e426592a9b933c6d6743b",
            "9b6b55712a964e0a98e904cb3335be0b",
            "556e4359a3474579906807a4c1382f0a",
            "b74d16e4772d42628ffad5fed947faa4",
            "e87569429de64a8aa173401d39de3500",
            "0c0a803c58704fdcac26eaacccb47374",
            "55e9efb2e7f545eba3bfdaf6baab78b9",
            "f7cf8e68b0a74cbaa6fd1275fedb44ff",
            "298d6906551648cc8aa090d0cdb237a4",
            "525a47c10b8d48569f6a9c2b758e4eed",
            "878fc17e45eb48bba9facbfe977c412a",
            "294ea7219e044402839f050b76288768",
            "b1e57a6ff548455fab19c8aebe9b0d2f",
            "de46456095a64274bf88e52c709c9a5f",
            "bad95c618cda4f7b8843b32d45401b0b",
            "5df26ae07c5b4580997c43919d2df175",
            "c59752b3bcfe4fccb32fc34a97057e90",
            "c7f606d5bab041b6ae59112f5fe4b547",
            "346ca3fce6c542aab81e25cbd500f7e9",
            "1c876de08c2c433ea12627748d622fd1",
            "5acb3315b69f4ca5a3cb53600ea8ace9",
            "bdefc6f9a905440fbc8f95bbdb76ec4f",
            "2120a6ae39174c45ba8b99c74eab7e86",
            "ec3cdb1e85904097b550e0d6b76b0ec3",
            "2519875c4fb74cb0acad219edeedc8dd",
            "8311757ca80a4b61a8659fd0cfe7a706",
            "e6e4bce4c47e47aca61af77fe2bbfbcf",
            "6cfab9357ddb41bbb531730572342b6a",
            "c63da6445fad4ed49aef79228ac5a911",
            "62bb71b52b314d58b97836cee787b388",
            "3ac722aeb0604d47b836c1abde8299f3",
            "1af280b1e1bf478ba107b024c2460158",
            "a0b9bc83609a405494982c3723707ed3",
            "effad4710d16473fb0e8c303f6332421",
            "9589fadcfd8f4f58bd241900ecc4d5e7",
            "6b187cae8251454ea22dd48fbdb292d3",
            "be80f157c5d24471822bb679670b8296",
            "c1b0dab815d544d0a1c7728566008064",
            "405f88e7d1884ded94d7e12b979b40da",
            "517d222af3684d2380c0c7d1e3b438f6",
            "be769321e5e1484c807b65e1e4acb6c0",
            "f1d9309668324c2f9d22c044dca8231b",
            "bec93f6654ed491e8d1d7ba015c9f5cf",
            "8b731e8f18a04d7a920fcd39917d2773",
            "b054354701c9487395ce02d795200c70",
            "1f4de4e2f53e4a1a8a9c07ed2f86d9d8",
            "a16cefe8298c417386ebc53c577d5dfa",
            "f7a20917790345929be3d0130c90f9f1",
            "a366396856554438b9dca232766cc2b5",
            "b947b421b13248c099f2435a543b6608",
            "f1359ee89d274318baa02a1c681e4ed5",
            "52ca2a2f55a044cea2ca50c61fd368be",
            "251205f7b9fa4ee593f4cf033d86ccbb",
            "3be4f0cca0a141c497d935edc6d83fc7"
          ]
        },
        "id": "_ff0ABXiHdfj",
        "outputId": "1c8209f4-d62b-444b-c8d0-25b5450444e5"
      },
      "outputs": [
        {
          "data": {
            "application/vnd.jupyter.widget-view+json": {
              "model_id": "da089961224842129147dc597febb9bb",
              "version_major": 2,
              "version_minor": 0
            },
            "text/plain": [
              "  0%|          | 0/938 [00:00<?, ?it/s]"
            ]
          },
          "metadata": {},
          "output_type": "display_data"
        },
        {
          "name": "stdout",
          "output_type": "stream",
          "text": [
            "Average loss for epoch 0: 2.2144539328272153\n"
          ]
        },
        {
          "data": {
            "application/vnd.jupyter.widget-view+json": {
              "model_id": "878fc17e45eb48bba9facbfe977c412a",
              "version_major": 2,
              "version_minor": 0
            },
            "text/plain": [
              "  0%|          | 0/938 [00:00<?, ?it/s]"
            ]
          },
          "metadata": {},
          "output_type": "display_data"
        },
        {
          "name": "stdout",
          "output_type": "stream",
          "text": [
            "Average loss for epoch 1: 1.1179270439310622\n"
          ]
        },
        {
          "data": {
            "application/vnd.jupyter.widget-view+json": {
              "model_id": "bdefc6f9a905440fbc8f95bbdb76ec4f",
              "version_major": 2,
              "version_minor": 0
            },
            "text/plain": [
              "  0%|          | 0/938 [00:00<?, ?it/s]"
            ]
          },
          "metadata": {},
          "output_type": "display_data"
        },
        {
          "name": "stdout",
          "output_type": "stream",
          "text": [
            "Average loss for epoch 2: 0.9192601617084128\n"
          ]
        },
        {
          "data": {
            "application/vnd.jupyter.widget-view+json": {
              "model_id": "a0b9bc83609a405494982c3723707ed3",
              "version_major": 2,
              "version_minor": 0
            },
            "text/plain": [
              "  0%|          | 0/938 [00:00<?, ?it/s]"
            ]
          },
          "metadata": {},
          "output_type": "display_data"
        },
        {
          "name": "stdout",
          "output_type": "stream",
          "text": [
            "Average loss for epoch 3: 0.8210797378185716\n"
          ]
        },
        {
          "data": {
            "application/vnd.jupyter.widget-view+json": {
              "model_id": "8b731e8f18a04d7a920fcd39917d2773",
              "version_major": 2,
              "version_minor": 0
            },
            "text/plain": [
              "  0%|          | 0/938 [00:00<?, ?it/s]"
            ]
          },
          "metadata": {},
          "output_type": "display_data"
        },
        {
          "name": "stdout",
          "output_type": "stream",
          "text": [
            "Average loss for epoch 4: 0.7643113058131895\n",
            "Starting loss: 6.892475128173828\n",
            "Ending loss: 0.6759588122367859\n"
          ]
        }
      ],
      "source": [
        "# Reset weights using the provided function\n",
        "reset_fc_weights(resnet18)\n",
        "\n",
        "# Create an empty list to hold losses\n",
        "epoch_losses = []\n",
        "\n",
        "# Training loop for 5 epochs\n",
        "for epoch in range(5):\n",
        "    losses = train_one_epoch(resnet18, train_dataloader, optimizer, loss, epoch)\n",
        "    epoch_losses.extend(losses)\n",
        "\n",
        "# Print starting and ending elements of the losses\n",
        "print(f\"Starting loss: {epoch_losses[0]}\")\n",
        "print(f\"Ending loss: {epoch_losses[-1]}\")"
      ]
    },
    {
      "cell_type": "markdown",
      "metadata": {
        "id": "goFta86yRFQk"
      },
      "source": [
        "# 7. Plot the training losses\n",
        "\n",
        "Plot the contents of the vector of losses you accumulated during training, with a descriptive text in the graph title, x-axis label, and y-axis label."
      ]
    },
    {
      "cell_type": "code",
      "execution_count": null,
      "metadata": {
        "colab": {
          "base_uri": "https://localhost:8080/",
          "height": 564
        },
        "id": "CGQtL4cyRbEb",
        "outputId": "1c4b7181-5446-4832-8dae-c15783b8e3f7"
      },
      "outputs": [
        {
          "data": {
            "image/png": "[encoded data removed]",
            "text/plain": [
              "<Figure size 800x600 with 1 Axes>"
            ]
          },
          "metadata": {},
          "output_type": "display_data"
        }
      ],
      "source": [
        "plt.figure(figsize=(8, 6))\n",
        "plt.plot(epoch_losses, label=\"Training Loss\", color=\"b\")\n",
        "plt.title(\"Training Loss Over Epochs\")\n",
        "plt.xlabel(\"Epoch\")\n",
        "plt.ylabel(\"Loss\")\n",
        "plt.grid(True)\n",
        "plt.legend()\n",
        "plt.show()"
      ]
    },
    {
      "cell_type": "markdown",
      "metadata": {
        "id": "hkqqUd3YIPAq"
      },
      "source": [
        "# Evaluating the model on the test data\n",
        "\n",
        "Here's some code to calculate and report the accuracy of the model.\n"
      ]
    },
    {
      "cell_type": "code",
      "execution_count": null,
      "metadata": {
        "id": "3dqUIDBjLGvZ"
      },
      "outputs": [],
      "source": [
        "def get_accuracy(model=resnet18, loader=test_dataloader,device=device):\n",
        "    \"\"\"computes accuracy of the given model on data from the given dataloader.\n",
        "    Returns accuracy as a nuber between 0 (100% wrong) and 1 (100% right).\"\"\"\n",
        "    model.eval() # put model in evaluation (not training) mode\n",
        "    all_predicted_labels = []\n",
        "    all_labels = []\n",
        "    with torch.no_grad():  # turn off gradient calcs; don't need 'em when doing prediction\n",
        "        for data, target in loader: # get a batch\n",
        "            all_labels = all_labels + target.tolist() # keep track of labels\n",
        "            data = data.to(device) # move data to device and classify it using the model.\n",
        "            output = model(data) # get output - a list of 10 logits\n",
        "            # find the index of the largest logit; that's the predicted class number.\n",
        "            ol = output.tolist()\n",
        "            output_labs = [np.argmax(x) for x in ol] # get output class number\n",
        "            all_predicted_labels = all_predicted_labels + output_labs\n",
        "    # at this point, all_labels has all the ground-truth labels and all_predicted_labels\n",
        "    # has all of the predicted labels - calculate the accuracy.\n",
        "    acc = sklearn.metrics.accuracy_score(all_labels, all_predicted_labels)\n",
        "    return [all_labels, all_predicted_labels,acc]"
      ]
    },
    {
      "cell_type": "code",
      "execution_count": null,
      "metadata": {
        "colab": {
          "base_uri": "https://localhost:8080/"
        },
        "id": "Nf02kUCvd08B",
        "outputId": "cabf4e1e-5282-48a4-b236-7c7fbae58885"
      },
      "outputs": [
        {
          "name": "stdout",
          "output_type": "stream",
          "text": [
            "Overall Accuracy for 10000 test samples is 0.8066\n"
          ]
        }
      ],
      "source": [
        "[labels,predicted_labels,acc] = get_accuracy()\n",
        "print(f'Overall Accuracy for {len(labels)} test samples is {acc}')"
      ]
    },
    {
      "cell_type": "markdown",
      "metadata": {
        "id": "yXp9H7DmVNNI"
      },
      "source": [
        "# 8. Accuracy by Class\n",
        "\n",
        "Use the lists of true and predicted labels computed above to get a _per-class_ accuracy value for the trained model. Printing out those accuracies for each of the ten classes.\n",
        "\n",
        "We recommend divide-and-conquer. Write a function `accuracy_for_class(class_no,true_labels,predicted_labels)` that calculates the accuracy for a single class `class_no`, and then loop over the possible class values.\n",
        "\n",
        "What classes did the model perform relatively poorly on? Why do you think it did so."
      ]
    },
    {
      "cell_type": "code",
      "execution_count": null,
      "metadata": {
        "colab": {
          "base_uri": "https://localhost:8080/"
        },
        "id": "7ODwJXeSWgEz",
        "outputId": "1d56a953-39e8-4646-912d-c09b9c682b9e"
      },
      "outputs": [
        {
          "name": "stdout",
          "output_type": "stream",
          "text": [
            "Class 0: Accuracy = 0.8694\n",
            "Class 1: Accuracy = 0.9656\n",
            "Class 2: Accuracy = 0.7258\n",
            "Class 3: Accuracy = 0.7554\n",
            "Class 4: Accuracy = 0.8299\n",
            "Class 5: Accuracy = 0.7253\n",
            "Class 6: Accuracy = 0.8267\n",
            "Class 7: Accuracy = 0.8084\n",
            "Class 8: Accuracy = 0.7556\n",
            "Class 9: Accuracy = 0.7780\n",
            "\n",
            "Overall Accuracy: 0.8066\n"
          ]
        }
      ],
      "source": [
        "def accuracy_for_class(class_no, true_labels, predicted_labels):\n",
        "    class_mask = np.array(true_labels) == class_no\n",
        "    class_true_labels = np.array(true_labels)[class_mask]\n",
        "    class_predicted_labels = np.array(predicted_labels)[class_mask]\n",
        "    class_accuracy = sklearn.metrics.accuracy_score(class_true_labels, class_predicted_labels)\n",
        "    return class_accuracy\n",
        "\n",
        "# Calculate per-class accuracies\n",
        "all_class_accuracies = []\n",
        "for class_no in range(10):\n",
        "    class_accuracy = accuracy_for_class(class_no, labels, predicted_labels)\n",
        "    all_class_accuracies.append(class_accuracy)\n",
        "    print(f\"Class {class_no}: Accuracy = {class_accuracy:.4f}\")\n",
        "\n",
        "# Overall accuracy\n",
        "overall_accuracy = sklearn.metrics.accuracy_score(labels, predicted_labels)\n",
        "print(f\"\\nOverall Accuracy: {overall_accuracy:.4f}\")"
      ]
    },
    {
      "cell_type": "markdown",
      "metadata": {
        "id": "gDsPki9JcJ5e"
      },
      "source": [
        "The model performs well on simpler digits (1, 4, 6) but struggles with more complex or variable digits (2, 5, 9). Digit 0 has a clear circular shape, making it relatively easy for the model to recognize (86.94%). Digit 1 is the simplest because it is a straight vertical line which contributes to high accuracy (96.56%). The variation in writing styles for digit 2 (e.g., open or closed loops) makes it challenging to classify consistently (72.58%). The curved structure of digit 3 and variations in loop shapes impact accuracy (75.54%). The inverted L shape of digit 4 helps with accurate classification (82.99%). For digit 5, different writing styles result in variations, making classification challenging (72.53%). The curved shape of digit 6 and its distinction from other digits contribute to accuracy (82.67%). The unique diagonal line in digit 7 affects classification, could be classifiying it as 1 instead (80.84%). The complex loops in digit 8 lead to variations in writing styles, so this reduces accuracy (75.56%). The closed loop in digit 9 resembles 6, leading to some misclassifications (77.80%)."
      ]
    }
  ],
  "metadata": {
    "accelerator": "GPU",
    "colab": {
      "gpuType": "T4",
      "provenance": []
    },
    "kernelspec": {
      "display_name": "Python 3",
      "name": "python3"
    },
    "language_info": {
      "name": "python"
    },
    "widgets": {
      "application/vnd.jupyter.widget-state+json": {
        "0c0a803c58704fdcac26eaacccb47374": {
          "model_module": "@jupyter-widgets/controls",
          "model_module_version": "1.5.0",
          "model_name": "DescriptionStyleModel",
          "state": {
            "_model_module": "@jupyter-widgets/controls",
            "_model_module_version": "1.5.0",
            "_model_name": "DescriptionStyleModel",
            "_view_count": null,
            "_view_module": "@jupyter-widgets/base",
            "_view_module_version": "1.2.0",
            "_view_name": "StyleView",
            "description_width": ""
          }
        },
        "1af280b1e1bf478ba107b024c2460158": {
          "model_module": "@jupyter-widgets/controls",
          "model_module_version": "1.5.0",
          "model_name": "DescriptionStyleModel",
          "state": {
            "_model_module": "@jupyter-widgets/controls",
            "_model_module_version": "1.5.0",
            "_model_name": "DescriptionStyleModel",
            "_view_count": null,
            "_view_module": "@jupyter-widgets/base",
            "_view_module_version": "1.2.0",
            "_view_name": "StyleView",
            "description_width": ""
          }
        },
        "1c876de08c2c433ea12627748d622fd1": {
          "model_module": "@jupyter-widgets/base",
          "model_module_version": "1.2.0",
          "model_name": "LayoutModel",
          "state": {
            "_model_module": "@jupyter-widgets/base",
            "_model_module_version": "1.2.0",
            "_model_name": "LayoutModel",
            "_view_count": null,
            "_view_module": "@jupyter-widgets/base",
            "_view_module_version": "1.2.0",
            "_view_name": "LayoutView",
            "align_content": null,
            "align_items": null,
            "align_self": null,
            "border": null,
            "bottom": null,
            "display": null,
            "flex": null,
            "flex_flow": null,
            "grid_area": null,
            "grid_auto_columns": null,
            "grid_auto_flow": null,
            "grid_auto_rows": null,
            "grid_column": null,
            "grid_gap": null,
            "grid_row": null,
            "grid_template_areas": null,
            "grid_template_columns": null,
            "grid_template_rows": null,
            "height": null,
            "justify_content": null,
            "justify_items": null,
            "left": null,
            "margin": null,
            "max_height": null,
            "max_width": null,
            "min_height": null,
            "min_width": null,
            "object_fit": null,
            "object_position": null,
            "order": null,
            "overflow": null,
            "overflow_x": null,
            "overflow_y": null,
            "padding": null,
            "right": null,
            "top": null,
            "visibility": null,
            "width": null
          }
        },
        "1f4de4e2f53e4a1a8a9c07ed2f86d9d8": {
          "model_module": "@jupyter-widgets/controls",
          "model_module_version": "1.5.0",
          "model_name": "FloatProgressModel",
          "state": {
            "_dom_classes": [],
            "_model_module": "@jupyter-widgets/controls",
            "_model_module_version": "1.5.0",
            "_model_name": "FloatProgressModel",
            "_view_count": null,
            "_view_module": "@jupyter-widgets/controls",
            "_view_module_version": "1.5.0",
            "_view_name": "ProgressView",
            "bar_style": "success",
            "description": "",
            "description_tooltip": null,
            "layout": "IPY_MODEL_f1359ee89d274318baa02a1c681e4ed5",
            "max": 938,
            "min": 0,
            "orientation": "horizontal",
            "style": "IPY_MODEL_52ca2a2f55a044cea2ca50c61fd368be",
            "value": 938
          }
        },
        "2120a6ae39174c45ba8b99c74eab7e86": {
          "model_module": "@jupyter-widgets/controls",
          "model_module_version": "1.5.0",
          "model_name": "HTMLModel",
          "state": {
            "_dom_classes": [],
            "_model_module": "@jupyter-widgets/controls",
            "_model_module_version": "1.5.0",
            "_model_name": "HTMLModel",
            "_view_count": null,
            "_view_module": "@jupyter-widgets/controls",
            "_view_module_version": "1.5.0",
            "_view_name": "HTMLView",
            "description": "",
            "description_tooltip": null,
            "layout": "IPY_MODEL_e6e4bce4c47e47aca61af77fe2bbfbcf",
            "placeholder": "​",
            "style": "IPY_MODEL_6cfab9357ddb41bbb531730572342b6a",
            "value": "100%"
          }
        },
        "251205f7b9fa4ee593f4cf033d86ccbb": {
          "model_module": "@jupyter-widgets/base",
          "model_module_version": "1.2.0",
          "model_name": "LayoutModel",
          "state": {
            "_model_module": "@jupyter-widgets/base",
            "_model_module_version": "1.2.0",
            "_model_name": "LayoutModel",
            "_view_count": null,
            "_view_module": "@jupyter-widgets/base",
            "_view_module_version": "1.2.0",
            "_view_name": "LayoutView",
            "align_content": null,
            "align_items": null,
            "align_self": null,
            "border": null,
            "bottom": null,
            "display": null,
            "flex": null,
            "flex_flow": null,
            "grid_area": null,
            "grid_auto_columns": null,
            "grid_auto_flow": null,
            "grid_auto_rows": null,
            "grid_column": null,
            "grid_gap": null,
            "grid_row": null,
            "grid_template_areas": null,
            "grid_template_columns": null,
            "grid_template_rows": null,
            "height": null,
            "justify_content": null,
            "justify_items": null,
            "left": null,
            "margin": null,
            "max_height": null,
            "max_width": null,
            "min_height": null,
            "min_width": null,
            "object_fit": null,
            "object_position": null,
            "order": null,
            "overflow": null,
            "overflow_x": null,
            "overflow_y": null,
            "padding": null,
            "right": null,
            "top": null,
            "visibility": null,
            "width": null
          }
        },
        "2519875c4fb74cb0acad219edeedc8dd": {
          "model_module": "@jupyter-widgets/controls",
          "model_module_version": "1.5.0",
          "model_name": "HTMLModel",
          "state": {
            "_dom_classes": [],
            "_model_module": "@jupyter-widgets/controls",
            "_model_module_version": "1.5.0",
            "_model_name": "HTMLModel",
            "_view_count": null,
            "_view_module": "@jupyter-widgets/controls",
            "_view_module_version": "1.5.0",
            "_view_name": "HTMLView",
            "description": "",
            "description_tooltip": null,
            "layout": "IPY_MODEL_3ac722aeb0604d47b836c1abde8299f3",
            "placeholder": "​",
            "style": "IPY_MODEL_1af280b1e1bf478ba107b024c2460158",
            "value": " 938/938 [00:31&lt;00:00, 29.16it/s]"
          }
        },
        "294ea7219e044402839f050b76288768": {
          "model_module": "@jupyter-widgets/controls",
          "model_module_version": "1.5.0",
          "model_name": "HTMLModel",
          "state": {
            "_dom_classes": [],
            "_model_module": "@jupyter-widgets/controls",
            "_model_module_version": "1.5.0",
            "_model_name": "HTMLModel",
            "_view_count": null,
            "_view_module": "@jupyter-widgets/controls",
            "_view_module_version": "1.5.0",
            "_view_name": "HTMLView",
            "description": "",
            "description_tooltip": null,
            "layout": "IPY_MODEL_5df26ae07c5b4580997c43919d2df175",
            "placeholder": "​",
            "style": "IPY_MODEL_c59752b3bcfe4fccb32fc34a97057e90",
            "value": "100%"
          }
        },
        "298d6906551648cc8aa090d0cdb237a4": {
          "model_module": "@jupyter-widgets/base",
          "model_module_version": "1.2.0",
          "model_name": "LayoutModel",
          "state": {
            "_model_module": "@jupyter-widgets/base",
            "_model_module_version": "1.2.0",
            "_model_name": "LayoutModel",
            "_view_count": null,
            "_view_module": "@jupyter-widgets/base",
            "_view_module_version": "1.2.0",
            "_view_name": "LayoutView",
            "align_content": null,
            "align_items": null,
            "align_self": null,
            "border": null,
            "bottom": null,
            "display": null,
            "flex": null,
            "flex_flow": null,
            "grid_area": null,
            "grid_auto_columns": null,
            "grid_auto_flow": null,
            "grid_auto_rows": null,
            "grid_column": null,
            "grid_gap": null,
            "grid_row": null,
            "grid_template_areas": null,
            "grid_template_columns": null,
            "grid_template_rows": null,
            "height": null,
            "justify_content": null,
            "justify_items": null,
            "left": null,
            "margin": null,
            "max_height": null,
            "max_width": null,
            "min_height": null,
            "min_width": null,
            "object_fit": null,
            "object_position": null,
            "order": null,
            "overflow": null,
            "overflow_x": null,
            "overflow_y": null,
            "padding": null,
            "right": null,
            "top": null,
            "visibility": null,
            "width": null
          }
        },
        "346ca3fce6c542aab81e25cbd500f7e9": {
          "model_module": "@jupyter-widgets/controls",
          "model_module_version": "1.5.0",
          "model_name": "ProgressStyleModel",
          "state": {
            "_model_module": "@jupyter-widgets/controls",
            "_model_module_version": "1.5.0",
            "_model_name": "ProgressStyleModel",
            "_view_count": null,
            "_view_module": "@jupyter-widgets/base",
            "_view_module_version": "1.2.0",
            "_view_name": "StyleView",
            "bar_color": null,
            "description_width": ""
          }
        },
        "3ac722aeb0604d47b836c1abde8299f3": {
          "model_module": "@jupyter-widgets/base",
          "model_module_version": "1.2.0",
          "model_name": "LayoutModel",
          "state": {
            "_model_module": "@jupyter-widgets/base",
            "_model_module_version": "1.2.0",
            "_model_name": "LayoutModel",
            "_view_count": null,
            "_view_module": "@jupyter-widgets/base",
            "_view_module_version": "1.2.0",
            "_view_name": "LayoutView",
            "align_content": null,
            "align_items": null,
            "align_self": null,
            "border": null,
            "bottom": null,
            "display": null,
            "flex": null,
            "flex_flow": null,
            "grid_area": null,
            "grid_auto_columns": null,
            "grid_auto_flow": null,
            "grid_auto_rows": null,
            "grid_column": null,
            "grid_gap": null,
            "grid_row": null,
            "grid_template_areas": null,
            "grid_template_columns": null,
            "grid_template_rows": null,
            "height": null,
            "justify_content": null,
            "justify_items": null,
            "left": null,
            "margin": null,
            "max_height": null,
            "max_width": null,
            "min_height": null,
            "min_width": null,
            "object_fit": null,
            "object_position": null,
            "order": null,
            "overflow": null,
            "overflow_x": null,
            "overflow_y": null,
            "padding": null,
            "right": null,
            "top": null,
            "visibility": null,
            "width": null
          }
        },
        "3be4f0cca0a141c497d935edc6d83fc7": {
          "model_module": "@jupyter-widgets/controls",
          "model_module_version": "1.5.0",
          "model_name": "DescriptionStyleModel",
          "state": {
            "_model_module": "@jupyter-widgets/controls",
            "_model_module_version": "1.5.0",
            "_model_name": "DescriptionStyleModel",
            "_view_count": null,
            "_view_module": "@jupyter-widgets/base",
            "_view_module_version": "1.2.0",
            "_view_name": "StyleView",
            "description_width": ""
          }
        },
        "405f88e7d1884ded94d7e12b979b40da": {
          "model_module": "@jupyter-widgets/controls",
          "model_module_version": "1.5.0",
          "model_name": "DescriptionStyleModel",
          "state": {
            "_model_module": "@jupyter-widgets/controls",
            "_model_module_version": "1.5.0",
            "_model_name": "DescriptionStyleModel",
            "_view_count": null,
            "_view_module": "@jupyter-widgets/base",
            "_view_module_version": "1.2.0",
            "_view_name": "StyleView",
            "description_width": ""
          }
        },
        "517d222af3684d2380c0c7d1e3b438f6": {
          "model_module": "@jupyter-widgets/base",
          "model_module_version": "1.2.0",
          "model_name": "LayoutModel",
          "state": {
            "_model_module": "@jupyter-widgets/base",
            "_model_module_version": "1.2.0",
            "_model_name": "LayoutModel",
            "_view_count": null,
            "_view_module": "@jupyter-widgets/base",
            "_view_module_version": "1.2.0",
            "_view_name": "LayoutView",
            "align_content": null,
            "align_items": null,
            "align_self": null,
            "border": null,
            "bottom": null,
            "display": null,
            "flex": null,
            "flex_flow": null,
            "grid_area": null,
            "grid_auto_columns": null,
            "grid_auto_flow": null,
            "grid_auto_rows": null,
            "grid_column": null,
            "grid_gap": null,
            "grid_row": null,
            "grid_template_areas": null,
            "grid_template_columns": null,
            "grid_template_rows": null,
            "height": null,
            "justify_content": null,
            "justify_items": null,
            "left": null,
            "margin": null,
            "max_height": null,
            "max_width": null,
            "min_height": null,
            "min_width": null,
            "object_fit": null,
            "object_position": null,
            "order": null,
            "overflow": null,
            "overflow_x": null,
            "overflow_y": null,
            "padding": null,
            "right": null,
            "top": null,
            "visibility": null,
            "width": null
          }
        },
        "525a47c10b8d48569f6a9c2b758e4eed": {
          "model_module": "@jupyter-widgets/controls",
          "model_module_version": "1.5.0",
          "model_name": "DescriptionStyleModel",
          "state": {
            "_model_module": "@jupyter-widgets/controls",
            "_model_module_version": "1.5.0",
            "_model_name": "DescriptionStyleModel",
            "_view_count": null,
            "_view_module": "@jupyter-widgets/base",
            "_view_module_version": "1.2.0",
            "_view_name": "StyleView",
            "description_width": ""
          }
        },
        "52ca2a2f55a044cea2ca50c61fd368be": {
          "model_module": "@jupyter-widgets/controls",
          "model_module_version": "1.5.0",
          "model_name": "ProgressStyleModel",
          "state": {
            "_model_module": "@jupyter-widgets/controls",
            "_model_module_version": "1.5.0",
            "_model_name": "ProgressStyleModel",
            "_view_count": null,
            "_view_module": "@jupyter-widgets/base",
            "_view_module_version": "1.2.0",
            "_view_name": "StyleView",
            "bar_color": null,
            "description_width": ""
          }
        },
        "556e4359a3474579906807a4c1382f0a": {
          "model_module": "@jupyter-widgets/controls",
          "model_module_version": "1.5.0",
          "model_name": "HTMLModel",
          "state": {
            "_dom_classes": [],
            "_model_module": "@jupyter-widgets/controls",
            "_model_module_version": "1.5.0",
            "_model_name": "HTMLModel",
            "_view_count": null,
            "_view_module": "@jupyter-widgets/controls",
            "_view_module_version": "1.5.0",
            "_view_name": "HTMLView",
            "description": "",
            "description_tooltip": null,
            "layout": "IPY_MODEL_298d6906551648cc8aa090d0cdb237a4",
            "placeholder": "​",
            "style": "IPY_MODEL_525a47c10b8d48569f6a9c2b758e4eed",
            "value": " 938/938 [00:32&lt;00:00, 30.81it/s]"
          }
        },
        "55e9efb2e7f545eba3bfdaf6baab78b9": {
          "model_module": "@jupyter-widgets/base",
          "model_module_version": "1.2.0",
          "model_name": "LayoutModel",
          "state": {
            "_model_module": "@jupyter-widgets/base",
            "_model_module_version": "1.2.0",
            "_model_name": "LayoutModel",
            "_view_count": null,
            "_view_module": "@jupyter-widgets/base",
            "_view_module_version": "1.2.0",
            "_view_name": "LayoutView",
            "align_content": null,
            "align_items": null,
            "align_self": null,
            "border": null,
            "bottom": null,
            "display": null,
            "flex": null,
            "flex_flow": null,
            "grid_area": null,
            "grid_auto_columns": null,
            "grid_auto_flow": null,
            "grid_auto_rows": null,
            "grid_column": null,
            "grid_gap": null,
            "grid_row": null,
            "grid_template_areas": null,
            "grid_template_columns": null,
            "grid_template_rows": null,
            "height": null,
            "justify_content": null,
            "justify_items": null,
            "left": null,
            "margin": null,
            "max_height": null,
            "max_width": null,
            "min_height": null,
            "min_width": null,
            "object_fit": null,
            "object_position": null,
            "order": null,
            "overflow": null,
            "overflow_x": null,
            "overflow_y": null,
            "padding": null,
            "right": null,
            "top": null,
            "visibility": null,
            "width": null
          }
        },
        "5acb3315b69f4ca5a3cb53600ea8ace9": {
          "model_module": "@jupyter-widgets/controls",
          "model_module_version": "1.5.0",
          "model_name": "DescriptionStyleModel",
          "state": {
            "_model_module": "@jupyter-widgets/controls",
            "_model_module_version": "1.5.0",
            "_model_name": "DescriptionStyleModel",
            "_view_count": null,
            "_view_module": "@jupyter-widgets/base",
            "_view_module_version": "1.2.0",
            "_view_name": "StyleView",
            "description_width": ""
          }
        },
        "5df26ae07c5b4580997c43919d2df175": {
          "model_module": "@jupyter-widgets/base",
          "model_module_version": "1.2.0",
          "model_name": "LayoutModel",
          "state": {
            "_model_module": "@jupyter-widgets/base",
            "_model_module_version": "1.2.0",
            "_model_name": "LayoutModel",
            "_view_count": null,
            "_view_module": "@jupyter-widgets/base",
            "_view_module_version": "1.2.0",
            "_view_name": "LayoutView",
            "align_content": null,
            "align_items": null,
            "align_self": null,
            "border": null,
            "bottom": null,
            "display": null,
            "flex": null,
            "flex_flow": null,
            "grid_area": null,
            "grid_auto_columns": null,
            "grid_auto_flow": null,
            "grid_auto_rows": null,
            "grid_column": null,
            "grid_gap": null,
            "grid_row": null,
            "grid_template_areas": null,
            "grid_template_columns": null,
            "grid_template_rows": null,
            "height": null,
            "justify_content": null,
            "justify_items": null,
            "left": null,
            "margin": null,
            "max_height": null,
            "max_width": null,
            "min_height": null,
            "min_width": null,
            "object_fit": null,
            "object_position": null,
            "order": null,
            "overflow": null,
            "overflow_x": null,
            "overflow_y": null,
            "padding": null,
            "right": null,
            "top": null,
            "visibility": null,
            "width": null
          }
        },
        "62bb71b52b314d58b97836cee787b388": {
          "model_module": "@jupyter-widgets/controls",
          "model_module_version": "1.5.0",
          "model_name": "ProgressStyleModel",
          "state": {
            "_model_module": "@jupyter-widgets/controls",
            "_model_module_version": "1.5.0",
            "_model_name": "ProgressStyleModel",
            "_view_count": null,
            "_view_module": "@jupyter-widgets/base",
            "_view_module_version": "1.2.0",
            "_view_name": "StyleView",
            "bar_color": null,
            "description_width": ""
          }
        },
        "6b187cae8251454ea22dd48fbdb292d3": {
          "model_module": "@jupyter-widgets/controls",
          "model_module_version": "1.5.0",
          "model_name": "HTMLModel",
          "state": {
            "_dom_classes": [],
            "_model_module": "@jupyter-widgets/controls",
            "_model_module_version": "1.5.0",
            "_model_name": "HTMLModel",
            "_view_count": null,
            "_view_module": "@jupyter-widgets/controls",
            "_view_module_version": "1.5.0",
            "_view_name": "HTMLView",
            "description": "",
            "description_tooltip": null,
            "layout": "IPY_MODEL_f1d9309668324c2f9d22c044dca8231b",
            "placeholder": "​",
            "style": "IPY_MODEL_bec93f6654ed491e8d1d7ba015c9f5cf",
            "value": " 938/938 [00:32&lt;00:00, 32.43it/s]"
          }
        },
        "6cfab9357ddb41bbb531730572342b6a": {
          "model_module": "@jupyter-widgets/controls",
          "model_module_version": "1.5.0",
          "model_name": "DescriptionStyleModel",
          "state": {
            "_model_module": "@jupyter-widgets/controls",
            "_model_module_version": "1.5.0",
            "_model_name": "DescriptionStyleModel",
            "_view_count": null,
            "_view_module": "@jupyter-widgets/base",
            "_view_module_version": "1.2.0",
            "_view_name": "StyleView",
            "description_width": ""
          }
        },
        "8311757ca80a4b61a8659fd0cfe7a706": {
          "model_module": "@jupyter-widgets/base",
          "model_module_version": "1.2.0",
          "model_name": "LayoutModel",
          "state": {
            "_model_module": "@jupyter-widgets/base",
            "_model_module_version": "1.2.0",
            "_model_name": "LayoutModel",
            "_view_count": null,
            "_view_module": "@jupyter-widgets/base",
            "_view_module_version": "1.2.0",
            "_view_name": "LayoutView",
            "align_content": null,
            "align_items": null,
            "align_self": null,
            "border": null,
            "bottom": null,
            "display": null,
            "flex": null,
            "flex_flow": null,
            "grid_area": null,
            "grid_auto_columns": null,
            "grid_auto_flow": null,
            "grid_auto_rows": null,
            "grid_column": null,
            "grid_gap": null,
            "grid_row": null,
            "grid_template_areas": null,
            "grid_template_columns": null,
            "grid_template_rows": null,
            "height": null,
            "justify_content": null,
            "justify_items": null,
            "left": null,
            "margin": null,
            "max_height": null,
            "max_width": null,
            "min_height": null,
            "min_width": null,
            "object_fit": null,
            "object_position": null,
            "order": null,
            "overflow": null,
            "overflow_x": null,
            "overflow_y": null,
            "padding": null,
            "right": null,
            "top": null,
            "visibility": null,
            "width": null
          }
        },
        "878fc17e45eb48bba9facbfe977c412a": {
          "model_module": "@jupyter-widgets/controls",
          "model_module_version": "1.5.0",
          "model_name": "HBoxModel",
          "state": {
            "_dom_classes": [],
            "_model_module": "@jupyter-widgets/controls",
            "_model_module_version": "1.5.0",
            "_model_name": "HBoxModel",
            "_view_count": null,
            "_view_module": "@jupyter-widgets/controls",
            "_view_module_version": "1.5.0",
            "_view_name": "HBoxView",
            "box_style": "",
            "children": [
              "IPY_MODEL_294ea7219e044402839f050b76288768",
              "IPY_MODEL_b1e57a6ff548455fab19c8aebe9b0d2f",
              "IPY_MODEL_de46456095a64274bf88e52c709c9a5f"
            ],
            "layout": "IPY_MODEL_bad95c618cda4f7b8843b32d45401b0b"
          }
        },
        "8b731e8f18a04d7a920fcd39917d2773": {
          "model_module": "@jupyter-widgets/controls",
          "model_module_version": "1.5.0",
          "model_name": "HBoxModel",
          "state": {
            "_dom_classes": [],
            "_model_module": "@jupyter-widgets/controls",
            "_model_module_version": "1.5.0",
            "_model_name": "HBoxModel",
            "_view_count": null,
            "_view_module": "@jupyter-widgets/controls",
            "_view_module_version": "1.5.0",
            "_view_name": "HBoxView",
            "box_style": "",
            "children": [
              "IPY_MODEL_b054354701c9487395ce02d795200c70",
              "IPY_MODEL_1f4de4e2f53e4a1a8a9c07ed2f86d9d8",
              "IPY_MODEL_a16cefe8298c417386ebc53c577d5dfa"
            ],
            "layout": "IPY_MODEL_f7a20917790345929be3d0130c90f9f1"
          }
        },
        "9589fadcfd8f4f58bd241900ecc4d5e7": {
          "model_module": "@jupyter-widgets/controls",
          "model_module_version": "1.5.0",
          "model_name": "FloatProgressModel",
          "state": {
            "_dom_classes": [],
            "_model_module": "@jupyter-widgets/controls",
            "_model_module_version": "1.5.0",
            "_model_name": "FloatProgressModel",
            "_view_count": null,
            "_view_module": "@jupyter-widgets/controls",
            "_view_module_version": "1.5.0",
            "_view_name": "ProgressView",
            "bar_style": "success",
            "description": "",
            "description_tooltip": null,
            "layout": "IPY_MODEL_517d222af3684d2380c0c7d1e3b438f6",
            "max": 938,
            "min": 0,
            "orientation": "horizontal",
            "style": "IPY_MODEL_be769321e5e1484c807b65e1e4acb6c0",
            "value": 938
          }
        },
        "9b6b55712a964e0a98e904cb3335be0b": {
          "model_module": "@jupyter-widgets/controls",
          "model_module_version": "1.5.0",
          "model_name": "FloatProgressModel",
          "state": {
            "_dom_classes": [],
            "_model_module": "@jupyter-widgets/controls",
            "_model_module_version": "1.5.0",
            "_model_name": "FloatProgressModel",
            "_view_count": null,
            "_view_module": "@jupyter-widgets/controls",
            "_view_module_version": "1.5.0",
            "_view_name": "ProgressView",
            "bar_style": "success",
            "description": "",
            "description_tooltip": null,
            "layout": "IPY_MODEL_55e9efb2e7f545eba3bfdaf6baab78b9",
            "max": 938,
            "min": 0,
            "orientation": "horizontal",
            "style": "IPY_MODEL_f7cf8e68b0a74cbaa6fd1275fedb44ff",
            "value": 938
          }
        },
        "a0b9bc83609a405494982c3723707ed3": {
          "model_module": "@jupyter-widgets/controls",
          "model_module_version": "1.5.0",
          "model_name": "HBoxModel",
          "state": {
            "_dom_classes": [],
            "_model_module": "@jupyter-widgets/controls",
            "_model_module_version": "1.5.0",
            "_model_name": "HBoxModel",
            "_view_count": null,
            "_view_module": "@jupyter-widgets/controls",
            "_view_module_version": "1.5.0",
            "_view_name": "HBoxView",
            "box_style": "",
            "children": [
              "IPY_MODEL_effad4710d16473fb0e8c303f6332421",
              "IPY_MODEL_9589fadcfd8f4f58bd241900ecc4d5e7",
              "IPY_MODEL_6b187cae8251454ea22dd48fbdb292d3"
            ],
            "layout": "IPY_MODEL_be80f157c5d24471822bb679670b8296"
          }
        },
        "a16cefe8298c417386ebc53c577d5dfa": {
          "model_module": "@jupyter-widgets/controls",
          "model_module_version": "1.5.0",
          "model_name": "HTMLModel",
          "state": {
            "_dom_classes": [],
            "_model_module": "@jupyter-widgets/controls",
            "_model_module_version": "1.5.0",
            "_model_name": "HTMLModel",
            "_view_count": null,
            "_view_module": "@jupyter-widgets/controls",
            "_view_module_version": "1.5.0",
            "_view_name": "HTMLView",
            "description": "",
            "description_tooltip": null,
            "layout": "IPY_MODEL_251205f7b9fa4ee593f4cf033d86ccbb",
            "placeholder": "​",
            "style": "IPY_MODEL_3be4f0cca0a141c497d935edc6d83fc7",
            "value": " 938/938 [00:31&lt;00:00, 24.56it/s]"
          }
        },
        "a366396856554438b9dca232766cc2b5": {
          "model_module": "@jupyter-widgets/base",
          "model_module_version": "1.2.0",
          "model_name": "LayoutModel",
          "state": {
            "_model_module": "@jupyter-widgets/base",
            "_model_module_version": "1.2.0",
            "_model_name": "LayoutModel",
            "_view_count": null,
            "_view_module": "@jupyter-widgets/base",
            "_view_module_version": "1.2.0",
            "_view_name": "LayoutView",
            "align_content": null,
            "align_items": null,
            "align_self": null,
            "border": null,
            "bottom": null,
            "display": null,
            "flex": null,
            "flex_flow": null,
            "grid_area": null,
            "grid_auto_columns": null,
            "grid_auto_flow": null,
            "grid_auto_rows": null,
            "grid_column": null,
            "grid_gap": null,
            "grid_row": null,
            "grid_template_areas": null,
            "grid_template_columns": null,
            "grid_template_rows": null,
            "height": null,
            "justify_content": null,
            "justify_items": null,
            "left": null,
            "margin": null,
            "max_height": null,
            "max_width": null,
            "min_height": null,
            "min_width": null,
            "object_fit": null,
            "object_position": null,
            "order": null,
            "overflow": null,
            "overflow_x": null,
            "overflow_y": null,
            "padding": null,
            "right": null,
            "top": null,
            "visibility": null,
            "width": null
          }
        },
        "a8c2797aff8e426592a9b933c6d6743b": {
          "model_module": "@jupyter-widgets/controls",
          "model_module_version": "1.5.0",
          "model_name": "HTMLModel",
          "state": {
            "_dom_classes": [],
            "_model_module": "@jupyter-widgets/controls",
            "_model_module_version": "1.5.0",
            "_model_name": "HTMLModel",
            "_view_count": null,
            "_view_module": "@jupyter-widgets/controls",
            "_view_module_version": "1.5.0",
            "_view_name": "HTMLView",
            "description": "",
            "description_tooltip": null,
            "layout": "IPY_MODEL_e87569429de64a8aa173401d39de3500",
            "placeholder": "​",
            "style": "IPY_MODEL_0c0a803c58704fdcac26eaacccb47374",
            "value": "100%"
          }
        },
        "b054354701c9487395ce02d795200c70": {
          "model_module": "@jupyter-widgets/controls",
          "model_module_version": "1.5.0",
          "model_name": "HTMLModel",
          "state": {
            "_dom_classes": [],
            "_model_module": "@jupyter-widgets/controls",
            "_model_module_version": "1.5.0",
            "_model_name": "HTMLModel",
            "_view_count": null,
            "_view_module": "@jupyter-widgets/controls",
            "_view_module_version": "1.5.0",
            "_view_name": "HTMLView",
            "description": "",
            "description_tooltip": null,
            "layout": "IPY_MODEL_a366396856554438b9dca232766cc2b5",
            "placeholder": "​",
            "style": "IPY_MODEL_b947b421b13248c099f2435a543b6608",
            "value": "100%"
          }
        },
        "b1e57a6ff548455fab19c8aebe9b0d2f": {
          "model_module": "@jupyter-widgets/controls",
          "model_module_version": "1.5.0",
          "model_name": "FloatProgressModel",
          "state": {
            "_dom_classes": [],
            "_model_module": "@jupyter-widgets/controls",
            "_model_module_version": "1.5.0",
            "_model_name": "FloatProgressModel",
            "_view_count": null,
            "_view_module": "@jupyter-widgets/controls",
            "_view_module_version": "1.5.0",
            "_view_name": "ProgressView",
            "bar_style": "success",
            "description": "",
            "description_tooltip": null,
            "layout": "IPY_MODEL_c7f606d5bab041b6ae59112f5fe4b547",
            "max": 938,
            "min": 0,
            "orientation": "horizontal",
            "style": "IPY_MODEL_346ca3fce6c542aab81e25cbd500f7e9",
            "value": 938
          }
        },
        "b74d16e4772d42628ffad5fed947faa4": {
          "model_module": "@jupyter-widgets/base",
          "model_module_version": "1.2.0",
          "model_name": "LayoutModel",
          "state": {
            "_model_module": "@jupyter-widgets/base",
            "_model_module_version": "1.2.0",
            "_model_name": "LayoutModel",
            "_view_count": null,
            "_view_module": "@jupyter-widgets/base",
            "_view_module_version": "1.2.0",
            "_view_name": "LayoutView",
            "align_content": null,
            "align_items": null,
            "align_self": null,
            "border": null,
            "bottom": null,
            "display": null,
            "flex": null,
            "flex_flow": null,
            "grid_area": null,
            "grid_auto_columns": null,
            "grid_auto_flow": null,
            "grid_auto_rows": null,
            "grid_column": null,
            "grid_gap": null,
            "grid_row": null,
            "grid_template_areas": null,
            "grid_template_columns": null,
            "grid_template_rows": null,
            "height": null,
            "justify_content": null,
            "justify_items": null,
            "left": null,
            "margin": null,
            "max_height": null,
            "max_width": null,
            "min_height": null,
            "min_width": null,
            "object_fit": null,
            "object_position": null,
            "order": null,
            "overflow": null,
            "overflow_x": null,
            "overflow_y": null,
            "padding": null,
            "right": null,
            "top": null,
            "visibility": null,
            "width": null
          }
        },
        "b947b421b13248c099f2435a543b6608": {
          "model_module": "@jupyter-widgets/controls",
          "model_module_version": "1.5.0",
          "model_name": "DescriptionStyleModel",
          "state": {
            "_model_module": "@jupyter-widgets/controls",
            "_model_module_version": "1.5.0",
            "_model_name": "DescriptionStyleModel",
            "_view_count": null,
            "_view_module": "@jupyter-widgets/base",
            "_view_module_version": "1.2.0",
            "_view_name": "StyleView",
            "description_width": ""
          }
        },
        "bad95c618cda4f7b8843b32d45401b0b": {
          "model_module": "@jupyter-widgets/base",
          "model_module_version": "1.2.0",
          "model_name": "LayoutModel",
          "state": {
            "_model_module": "@jupyter-widgets/base",
            "_model_module_version": "1.2.0",
            "_model_name": "LayoutModel",
            "_view_count": null,
            "_view_module": "@jupyter-widgets/base",
            "_view_module_version": "1.2.0",
            "_view_name": "LayoutView",
            "align_content": null,
            "align_items": null,
            "align_self": null,
            "border": null,
            "bottom": null,
            "display": null,
            "flex": null,
            "flex_flow": null,
            "grid_area": null,
            "grid_auto_columns": null,
            "grid_auto_flow": null,
            "grid_auto_rows": null,
            "grid_column": null,
            "grid_gap": null,
            "grid_row": null,
            "grid_template_areas": null,
            "grid_template_columns": null,
            "grid_template_rows": null,
            "height": null,
            "justify_content": null,
            "justify_items": null,
            "left": null,
            "margin": null,
            "max_height": null,
            "max_width": null,
            "min_height": null,
            "min_width": null,
            "object_fit": null,
            "object_position": null,
            "order": null,
            "overflow": null,
            "overflow_x": null,
            "overflow_y": null,
            "padding": null,
            "right": null,
            "top": null,
            "visibility": null,
            "width": null
          }
        },
        "bdefc6f9a905440fbc8f95bbdb76ec4f": {
          "model_module": "@jupyter-widgets/controls",
          "model_module_version": "1.5.0",
          "model_name": "HBoxModel",
          "state": {
            "_dom_classes": [],
            "_model_module": "@jupyter-widgets/controls",
            "_model_module_version": "1.5.0",
            "_model_name": "HBoxModel",
            "_view_count": null,
            "_view_module": "@jupyter-widgets/controls",
            "_view_module_version": "1.5.0",
            "_view_name": "HBoxView",
            "box_style": "",
            "children": [
              "IPY_MODEL_2120a6ae39174c45ba8b99c74eab7e86",
              "IPY_MODEL_ec3cdb1e85904097b550e0d6b76b0ec3",
              "IPY_MODEL_2519875c4fb74cb0acad219edeedc8dd"
            ],
            "layout": "IPY_MODEL_8311757ca80a4b61a8659fd0cfe7a706"
          }
        },
        "be769321e5e1484c807b65e1e4acb6c0": {
          "model_module": "@jupyter-widgets/controls",
          "model_module_version": "1.5.0",
          "model_name": "ProgressStyleModel",
          "state": {
            "_model_module": "@jupyter-widgets/controls",
            "_model_module_version": "1.5.0",
            "_model_name": "ProgressStyleModel",
            "_view_count": null,
            "_view_module": "@jupyter-widgets/base",
            "_view_module_version": "1.2.0",
            "_view_name": "StyleView",
            "bar_color": null,
            "description_width": ""
          }
        },
        "be80f157c5d24471822bb679670b8296": {
          "model_module": "@jupyter-widgets/base",
          "model_module_version": "1.2.0",
          "model_name": "LayoutModel",
          "state": {
            "_model_module": "@jupyter-widgets/base",
            "_model_module_version": "1.2.0",
            "_model_name": "LayoutModel",
            "_view_count": null,
            "_view_module": "@jupyter-widgets/base",
            "_view_module_version": "1.2.0",
            "_view_name": "LayoutView",
            "align_content": null,
            "align_items": null,
            "align_self": null,
            "border": null,
            "bottom": null,
            "display": null,
            "flex": null,
            "flex_flow": null,
            "grid_area": null,
            "grid_auto_columns": null,
            "grid_auto_flow": null,
            "grid_auto_rows": null,
            "grid_column": null,
            "grid_gap": null,
            "grid_row": null,
            "grid_template_areas": null,
            "grid_template_columns": null,
            "grid_template_rows": null,
            "height": null,
            "justify_content": null,
            "justify_items": null,
            "left": null,
            "margin": null,
            "max_height": null,
            "max_width": null,
            "min_height": null,
            "min_width": null,
            "object_fit": null,
            "object_position": null,
            "order": null,
            "overflow": null,
            "overflow_x": null,
            "overflow_y": null,
            "padding": null,
            "right": null,
            "top": null,
            "visibility": null,
            "width": null
          }
        },
        "bec93f6654ed491e8d1d7ba015c9f5cf": {
          "model_module": "@jupyter-widgets/controls",
          "model_module_version": "1.5.0",
          "model_name": "DescriptionStyleModel",
          "state": {
            "_model_module": "@jupyter-widgets/controls",
            "_model_module_version": "1.5.0",
            "_model_name": "DescriptionStyleModel",
            "_view_count": null,
            "_view_module": "@jupyter-widgets/base",
            "_view_module_version": "1.2.0",
            "_view_name": "StyleView",
            "description_width": ""
          }
        },
        "c1b0dab815d544d0a1c7728566008064": {
          "model_module": "@jupyter-widgets/base",
          "model_module_version": "1.2.0",
          "model_name": "LayoutModel",
          "state": {
            "_model_module": "@jupyter-widgets/base",
            "_model_module_version": "1.2.0",
            "_model_name": "LayoutModel",
            "_view_count": null,
            "_view_module": "@jupyter-widgets/base",
            "_view_module_version": "1.2.0",
            "_view_name": "LayoutView",
            "align_content": null,
            "align_items": null,
            "align_self": null,
            "border": null,
            "bottom": null,
            "display": null,
            "flex": null,
            "flex_flow": null,
            "grid_area": null,
            "grid_auto_columns": null,
            "grid_auto_flow": null,
            "grid_auto_rows": null,
            "grid_column": null,
            "grid_gap": null,
            "grid_row": null,
            "grid_template_areas": null,
            "grid_template_columns": null,
            "grid_template_rows": null,
            "height": null,
            "justify_content": null,
            "justify_items": null,
            "left": null,
            "margin": null,
            "max_height": null,
            "max_width": null,
            "min_height": null,
            "min_width": null,
            "object_fit": null,
            "object_position": null,
            "order": null,
            "overflow": null,
            "overflow_x": null,
            "overflow_y": null,
            "padding": null,
            "right": null,
            "top": null,
            "visibility": null,
            "width": null
          }
        },
        "c59752b3bcfe4fccb32fc34a97057e90": {
          "model_module": "@jupyter-widgets/controls",
          "model_module_version": "1.5.0",
          "model_name": "DescriptionStyleModel",
          "state": {
            "_model_module": "@jupyter-widgets/controls",
            "_model_module_version": "1.5.0",
            "_model_name": "DescriptionStyleModel",
            "_view_count": null,
            "_view_module": "@jupyter-widgets/base",
            "_view_module_version": "1.2.0",
            "_view_name": "StyleView",
            "description_width": ""
          }
        },
        "c63da6445fad4ed49aef79228ac5a911": {
          "model_module": "@jupyter-widgets/base",
          "model_module_version": "1.2.0",
          "model_name": "LayoutModel",
          "state": {
            "_model_module": "@jupyter-widgets/base",
            "_model_module_version": "1.2.0",
            "_model_name": "LayoutModel",
            "_view_count": null,
            "_view_module": "@jupyter-widgets/base",
            "_view_module_version": "1.2.0",
            "_view_name": "LayoutView",
            "align_content": null,
            "align_items": null,
            "align_self": null,
            "border": null,
            "bottom": null,
            "display": null,
            "flex": null,
            "flex_flow": null,
            "grid_area": null,
            "grid_auto_columns": null,
            "grid_auto_flow": null,
            "grid_auto_rows": null,
            "grid_column": null,
            "grid_gap": null,
            "grid_row": null,
            "grid_template_areas": null,
            "grid_template_columns": null,
            "grid_template_rows": null,
            "height": null,
            "justify_content": null,
            "justify_items": null,
            "left": null,
            "margin": null,
            "max_height": null,
            "max_width": null,
            "min_height": null,
            "min_width": null,
            "object_fit": null,
            "object_position": null,
            "order": null,
            "overflow": null,
            "overflow_x": null,
            "overflow_y": null,
            "padding": null,
            "right": null,
            "top": null,
            "visibility": null,
            "width": null
          }
        },
        "c7f606d5bab041b6ae59112f5fe4b547": {
          "model_module": "@jupyter-widgets/base",
          "model_module_version": "1.2.0",
          "model_name": "LayoutModel",
          "state": {
            "_model_module": "@jupyter-widgets/base",
            "_model_module_version": "1.2.0",
            "_model_name": "LayoutModel",
            "_view_count": null,
            "_view_module": "@jupyter-widgets/base",
            "_view_module_version": "1.2.0",
            "_view_name": "LayoutView",
            "align_content": null,
            "align_items": null,
            "align_self": null,
            "border": null,
            "bottom": null,
            "display": null,
            "flex": null,
            "flex_flow": null,
            "grid_area": null,
            "grid_auto_columns": null,
            "grid_auto_flow": null,
            "grid_auto_rows": null,
            "grid_column": null,
            "grid_gap": null,
            "grid_row": null,
            "grid_template_areas": null,
            "grid_template_columns": null,
            "grid_template_rows": null,
            "height": null,
            "justify_content": null,
            "justify_items": null,
            "left": null,
            "margin": null,
            "max_height": null,
            "max_width": null,
            "min_height": null,
            "min_width": null,
            "object_fit": null,
            "object_position": null,
            "order": null,
            "overflow": null,
            "overflow_x": null,
            "overflow_y": null,
            "padding": null,
            "right": null,
            "top": null,
            "visibility": null,
            "width": null
          }
        },
        "da089961224842129147dc597febb9bb": {
          "model_module": "@jupyter-widgets/controls",
          "model_module_version": "1.5.0",
          "model_name": "HBoxModel",
          "state": {
            "_dom_classes": [],
            "_model_module": "@jupyter-widgets/controls",
            "_model_module_version": "1.5.0",
            "_model_name": "HBoxModel",
            "_view_count": null,
            "_view_module": "@jupyter-widgets/controls",
            "_view_module_version": "1.5.0",
            "_view_name": "HBoxView",
            "box_style": "",
            "children": [
              "IPY_MODEL_a8c2797aff8e426592a9b933c6d6743b",
              "IPY_MODEL_9b6b55712a964e0a98e904cb3335be0b",
              "IPY_MODEL_556e4359a3474579906807a4c1382f0a"
            ],
            "layout": "IPY_MODEL_b74d16e4772d42628ffad5fed947faa4"
          }
        },
        "de46456095a64274bf88e52c709c9a5f": {
          "model_module": "@jupyter-widgets/controls",
          "model_module_version": "1.5.0",
          "model_name": "HTMLModel",
          "state": {
            "_dom_classes": [],
            "_model_module": "@jupyter-widgets/controls",
            "_model_module_version": "1.5.0",
            "_model_name": "HTMLModel",
            "_view_count": null,
            "_view_module": "@jupyter-widgets/controls",
            "_view_module_version": "1.5.0",
            "_view_name": "HTMLView",
            "description": "",
            "description_tooltip": null,
            "layout": "IPY_MODEL_1c876de08c2c433ea12627748d622fd1",
            "placeholder": "​",
            "style": "IPY_MODEL_5acb3315b69f4ca5a3cb53600ea8ace9",
            "value": " 938/938 [00:35&lt;00:00, 29.72it/s]"
          }
        },
        "e6e4bce4c47e47aca61af77fe2bbfbcf": {
          "model_module": "@jupyter-widgets/base",
          "model_module_version": "1.2.0",
          "model_name": "LayoutModel",
          "state": {
            "_model_module": "@jupyter-widgets/base",
            "_model_module_version": "1.2.0",
            "_model_name": "LayoutModel",
            "_view_count": null,
            "_view_module": "@jupyter-widgets/base",
            "_view_module_version": "1.2.0",
            "_view_name": "LayoutView",
            "align_content": null,
            "align_items": null,
            "align_self": null,
            "border": null,
            "bottom": null,
            "display": null,
            "flex": null,
            "flex_flow": null,
            "grid_area": null,
            "grid_auto_columns": null,
            "grid_auto_flow": null,
            "grid_auto_rows": null,
            "grid_column": null,
            "grid_gap": null,
            "grid_row": null,
            "grid_template_areas": null,
            "grid_template_columns": null,
            "grid_template_rows": null,
            "height": null,
            "justify_content": null,
            "justify_items": null,
            "left": null,
            "margin": null,
            "max_height": null,
            "max_width": null,
            "min_height": null,
            "min_width": null,
            "object_fit": null,
            "object_position": null,
            "order": null,
            "overflow": null,
            "overflow_x": null,
            "overflow_y": null,
            "padding": null,
            "right": null,
            "top": null,
            "visibility": null,
            "width": null
          }
        },
        "e87569429de64a8aa173401d39de3500": {
          "model_module": "@jupyter-widgets/base",
          "model_module_version": "1.2.0",
          "model_name": "LayoutModel",
          "state": {
            "_model_module": "@jupyter-widgets/base",
            "_model_module_version": "1.2.0",
            "_model_name": "LayoutModel",
            "_view_count": null,
            "_view_module": "@jupyter-widgets/base",
            "_view_module_version": "1.2.0",
            "_view_name": "LayoutView",
            "align_content": null,
            "align_items": null,
            "align_self": null,
            "border": null,
            "bottom": null,
            "display": null,
            "flex": null,
            "flex_flow": null,
            "grid_area": null,
            "grid_auto_columns": null,
            "grid_auto_flow": null,
            "grid_auto_rows": null,
            "grid_column": null,
            "grid_gap": null,
            "grid_row": null,
            "grid_template_areas": null,
            "grid_template_columns": null,
            "grid_template_rows": null,
            "height": null,
            "justify_content": null,
            "justify_items": null,
            "left": null,
            "margin": null,
            "max_height": null,
            "max_width": null,
            "min_height": null,
            "min_width": null,
            "object_fit": null,
            "object_position": null,
            "order": null,
            "overflow": null,
            "overflow_x": null,
            "overflow_y": null,
            "padding": null,
            "right": null,
            "top": null,
            "visibility": null,
            "width": null
          }
        },
        "ec3cdb1e85904097b550e0d6b76b0ec3": {
          "model_module": "@jupyter-widgets/controls",
          "model_module_version": "1.5.0",
          "model_name": "FloatProgressModel",
          "state": {
            "_dom_classes": [],
            "_model_module": "@jupyter-widgets/controls",
            "_model_module_version": "1.5.0",
            "_model_name": "FloatProgressModel",
            "_view_count": null,
            "_view_module": "@jupyter-widgets/controls",
            "_view_module_version": "1.5.0",
            "_view_name": "ProgressView",
            "bar_style": "success",
            "description": "",
            "description_tooltip": null,
            "layout": "IPY_MODEL_c63da6445fad4ed49aef79228ac5a911",
            "max": 938,
            "min": 0,
            "orientation": "horizontal",
            "style": "IPY_MODEL_62bb71b52b314d58b97836cee787b388",
            "value": 938
          }
        },
        "effad4710d16473fb0e8c303f6332421": {
          "model_module": "@jupyter-widgets/controls",
          "model_module_version": "1.5.0",
          "model_name": "HTMLModel",
          "state": {
            "_dom_classes": [],
            "_model_module": "@jupyter-widgets/controls",
            "_model_module_version": "1.5.0",
            "_model_name": "HTMLModel",
            "_view_count": null,
            "_view_module": "@jupyter-widgets/controls",
            "_view_module_version": "1.5.0",
            "_view_name": "HTMLView",
            "description": "",
            "description_tooltip": null,
            "layout": "IPY_MODEL_c1b0dab815d544d0a1c7728566008064",
            "placeholder": "​",
            "style": "IPY_MODEL_405f88e7d1884ded94d7e12b979b40da",
            "value": "100%"
          }
        },
        "f1359ee89d274318baa02a1c681e4ed5": {
          "model_module": "@jupyter-widgets/base",
          "model_module_version": "1.2.0",
          "model_name": "LayoutModel",
          "state": {
            "_model_module": "@jupyter-widgets/base",
            "_model_module_version": "1.2.0",
            "_model_name": "LayoutModel",
            "_view_count": null,
            "_view_module": "@jupyter-widgets/base",
            "_view_module_version": "1.2.0",
            "_view_name": "LayoutView",
            "align_content": null,
            "align_items": null,
            "align_self": null,
            "border": null,
            "bottom": null,
            "display": null,
            "flex": null,
            "flex_flow": null,
            "grid_area": null,
            "grid_auto_columns": null,
            "grid_auto_flow": null,
            "grid_auto_rows": null,
            "grid_column": null,
            "grid_gap": null,
            "grid_row": null,
            "grid_template_areas": null,
            "grid_template_columns": null,
            "grid_template_rows": null,
            "height": null,
            "justify_content": null,
            "justify_items": null,
            "left": null,
            "margin": null,
            "max_height": null,
            "max_width": null,
            "min_height": null,
            "min_width": null,
            "object_fit": null,
            "object_position": null,
            "order": null,
            "overflow": null,
            "overflow_x": null,
            "overflow_y": null,
            "padding": null,
            "right": null,
            "top": null,
            "visibility": null,
            "width": null
          }
        },
        "f1d9309668324c2f9d22c044dca8231b": {
          "model_module": "@jupyter-widgets/base",
          "model_module_version": "1.2.0",
          "model_name": "LayoutModel",
          "state": {
            "_model_module": "@jupyter-widgets/base",
            "_model_module_version": "1.2.0",
            "_model_name": "LayoutModel",
            "_view_count": null,
            "_view_module": "@jupyter-widgets/base",
            "_view_module_version": "1.2.0",
            "_view_name": "LayoutView",
            "align_content": null,
            "align_items": null,
            "align_self": null,
            "border": null,
            "bottom": null,
            "display": null,
            "flex": null,
            "flex_flow": null,
            "grid_area": null,
            "grid_auto_columns": null,
            "grid_auto_flow": null,
            "grid_auto_rows": null,
            "grid_column": null,
            "grid_gap": null,
            "grid_row": null,
            "grid_template_areas": null,
            "grid_template_columns": null,
            "grid_template_rows": null,
            "height": null,
            "justify_content": null,
            "justify_items": null,
            "left": null,
            "margin": null,
            "max_height": null,
            "max_width": null,
            "min_height": null,
            "min_width": null,
            "object_fit": null,
            "object_position": null,
            "order": null,
            "overflow": null,
            "overflow_x": null,
            "overflow_y": null,
            "padding": null,
            "right": null,
            "top": null,
            "visibility": null,
            "width": null
          }
        },
        "f7a20917790345929be3d0130c90f9f1": {
          "model_module": "@jupyter-widgets/base",
          "model_module_version": "1.2.0",
          "model_name": "LayoutModel",
          "state": {
            "_model_module": "@jupyter-widgets/base",
            "_model_module_version": "1.2.0",
            "_model_name": "LayoutModel",
            "_view_count": null,
            "_view_module": "@jupyter-widgets/base",
            "_view_module_version": "1.2.0",
            "_view_name": "LayoutView",
            "align_content": null,
            "align_items": null,
            "align_self": null,
            "border": null,
            "bottom": null,
            "display": null,
            "flex": null,
            "flex_flow": null,
            "grid_area": null,
            "grid_auto_columns": null,
            "grid_auto_flow": null,
            "grid_auto_rows": null,
            "grid_column": null,
            "grid_gap": null,
            "grid_row": null,
            "grid_template_areas": null,
            "grid_template_columns": null,
            "grid_template_rows": null,
            "height": null,
            "justify_content": null,
            "justify_items": null,
            "left": null,
            "margin": null,
            "max_height": null,
            "max_width": null,
            "min_height": null,
            "min_width": null,
            "object_fit": null,
            "object_position": null,
            "order": null,
            "overflow": null,
            "overflow_x": null,
            "overflow_y": null,
            "padding": null,
            "right": null,
            "top": null,
            "visibility": null,
            "width": null
          }
        },
        "f7cf8e68b0a74cbaa6fd1275fedb44ff": {
          "model_module": "@jupyter-widgets/controls",
          "model_module_version": "1.5.0",
          "model_name": "ProgressStyleModel",
          "state": {
            "_model_module": "@jupyter-widgets/controls",
            "_model_module_version": "1.5.0",
            "_model_name": "ProgressStyleModel",
            "_view_count": null,
            "_view_module": "@jupyter-widgets/base",
            "_view_module_version": "1.2.0",
            "_view_name": "StyleView",
            "bar_color": null,
            "description_width": ""
          }
        }
      }
    }
  },
  "nbformat": 4,
  "nbformat_minor": 0
}
