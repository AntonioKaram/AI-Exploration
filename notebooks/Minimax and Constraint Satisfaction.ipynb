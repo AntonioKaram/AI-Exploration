{
  "cells": [
    {
      "cell_type": "markdown",
      "metadata": {
        "id": "abXLwROQuQnx"
      },
      "source": [
        "# Constraint Statisfaction Problems"
      ]
    },
    {
      "cell_type": "markdown",
      "metadata": {
        "id": "yq17-281r3Ly"
      },
      "source": [
        "Consider this CSP. Steve, Julie, Maria, and Padraig are students traveling to a field trip, and each must ride in car 1, or car 2, or car 3.  These are middle-schoolers, and they're talented in math. Therefore, we have **drama**.\n",
        "\n",
        " + Steve won't ride in car 1.\n",
        " + Maria and Steve are unwilling to ride in the same car.\n",
        " + The sum of the car numbers for Maria and Julie must be less than 4.\n",
        " + Steve's car number must be greater than Julie's car number.\n",
        " + Maria and Padraig are unwilling to ride in the same car.\n",
        " + Julie's car number must be smaller than Padraig's car number.\n"
      ]
    },
    {
      "cell_type": "markdown",
      "metadata": {
        "id": "OxUC04zs0enP"
      },
      "source": [
        "The variables in this problem are Steve, Julie, Maria, Padraig\n",
        "\n",
        "The domain for all these variables is the cars themselves: *Car1*, *Car2*, *Car3*"
      ]
    },
    {
      "cell_type": "markdown",
      "metadata": {
        "id": "OZnPIgZ50jN_"
      },
      "source": [
        "## Programming CSPs\n",
        "\n",
        "Use the `python-constraint` package  ([link](https://python-constraint.github.io/python-constraint/index.html)) to code up the CSP in problem 2 above. The `import` cell is immediately below, and you're being provided the necessary bits to install `python-constraint` and also `gdown`, which you will need later.\n",
        "\n",
        "Specify **all** of the ~middle-school drama~ constraints using\n",
        "the `.addConstraint()` method -- _even if it is possible to implement a constraint as a restriction on the domain of a variable_ (there is one instance of this in the problem statement above).  You'll need to write simple functions to implement some of the constraints. but you **must** use `AllDifferentConstraint()` to implement two of the constraints.\n",
        "\n",
        "List **all** of the valid solutions found by the default solver."
      ]
    },
    {
      "cell_type": "code",
      "execution_count": null,
      "metadata": {
        "id": "2OTzAte1bpQM"
      },
      "outputs": [],
      "source": [
        "from constraint import *\n",
        "import gdown"
      ]
    },
    {
      "cell_type": "code",
      "execution_count": null,
      "metadata": {
        "id": "q25Z8D2_ts13"
      },
      "outputs": [],
      "source": [
        "# Initialize the CSP\n",
        "p = Problem()\n",
        "\n",
        "# Create the variables\n",
        "vars = ['Steve', 'Julie', 'Maria','Padraig']\n",
        "\n",
        "# Create the domain\n",
        "domain = [1,2,3]\n",
        "\n",
        "# Add the variables\n",
        "p.addVariables(vars, domain)\n",
        "\n",
        "# Add Constraints\n",
        "p.addConstraint(lambda x: x != 1, ('Steve',))\n",
        "p.addConstraint(lambda x,y: x > y, ('Steve', 'Julie'))\n",
        "p.addConstraint(lambda x,y: x < y, ('Julie', 'Padraig'))\n",
        "p.addConstraint(lambda x,y: x + y < 4, ('Maria', 'Julie'))\n",
        "\n",
        "p.addConstraint(AllDifferentConstraint(), ('Steve', 'Maria'))\n",
        "p.addConstraint(AllDifferentConstraint(), ('Padraig', 'Maria'))\n",
        "\n",
        "# Print all valid solutions\n",
        "print(f'Solutions:\\n {p.getSolutions()}')"
      ]
    },
    {
      "cell_type": "markdown",
      "metadata": {
        "id": "Iei2PNyR5UCa"
      },
      "source": [
        "## Graph coloring\n",
        "\n",
        "The ability to color any flat _map_ with no more than four colors is fascinating for many reasons (for example, it was the first theorem proved by a computer). But map coloring is just an example of determining the _chromatic number_ ([Wikipedia article](https://en.wikipedia.org/wiki/Graph_coloring#Chromatic_number)) of a graph - the smallest number of colors needed to color it so that adjacent nodes don't share a color. A _loopless planar graph_ (e.g., a map) has a maximum chromatic number of 4 (which is needed for the US map - look at the pointy bit of Nevada), but may be lower (Australia is 3).  The theory and practice of coloring general graphs has been a topic of some interest to theoretical CS people for decades and mathematicians for centuries.\n",
        "\n",
        "a. Using the `gdown` package (documentation: [here](https://github.com/wkentaro/gdown)), called from your python code (`gdown.download()`), retrieve the file at this URL and store it in your runtime under the name `mygraph.txt`: `https://drive.google.com/uc?id=1C7r5cptqczRvCqqJb3jrgfl3hgWQCplW`\n",
        "\n",
        "b. Read `mygraph.txt`. It has a very simple format.\n",
        " + If the first character in the line is not **`e`**, ignore the line.\n",
        " + If the first character in the line is a **`e`**, it is a declaration that there is an edge between two nodes whose (integer) labels appear on the line after the **`e`**. For example, a line that reads **`e 12 34`** is telling you that nodes 12 and 34 in the graph. These indices are 1-based.  From this edge data, assemble a list of node labels as well as a list of edges.\n",
        "\n",
        "c. Build a CSP (using `python-constraints`) from the node and edge data.\n",
        " + The nodes are the variables.\n",
        " + The domain for each variable is a color. You will just use integers from 1 to $C_{max}$ to represent the color. We'll talk about $C_{max}$ more below.\n",
        " + The edges are `AllDifferent` constraints between the nodes they involve.\n",
        "\n",
        "d. Run a set of experiments to find an empirical tight upper bound on the coloring. This is mildly tricky:\n",
        " + If you use `.getSolution()` and $C_{max}$ is the chromatic number or higher, it will return a solution right away.\n",
        " + If you specify a $C_{max}$ that is too low, `.getSolution()` will run for a **long** time as it effectively searches a tree with no successful leaves.\n",
        "\n",
        "So the approach to determine $C_{max}$ is to do the following, **manually**:\n",
        " + start with $C_{max} = 128$\n",
        " + binary-search your way down to the lowest value of $C_{max}$ that gives you an answer within a couple of seconds. Anything that is too low will run and run and run. If you see that happening, kill the execution by clicking the stop button in the cell - and continue your binary searc.\n",
        "\n",
        "The code in this cell is what you need to test a single candidate value of $C_{max}$. Just run it over and over with different $C_{max}$ values until you find the minimum.\n",
        "\n",
        "e. Repeat parts a, b, and c with the graph data file at this URL: `https://drive.google.com/uc?id=1C9XR3emzfWF3-yN75i3LMvi_Ct2-uwqX`, to be downloaded to local file named `mygraph2.txt`.\n",
        "\n",
        "f. Repeat part d with the different CSP built from the second data file's graph."
      ]
    },
    {
      "cell_type": "code",
      "execution_count": null,
      "metadata": {
        "id": "cGAEqzOqvP89"
      },
      "outputs": [],
      "source": [
        "# Download and write the file\n",
        "with open('mygraph.txt', 'w'):\n",
        "  gdown.download('https://drive.google.com/uc?id=1C7r5cptqczRvCqqJb3jrgfl3hgWQCplW', \"mygraph.txt\")\n",
        "\n",
        "# List of Nodes\n",
        "nodes = set()\n",
        "\n",
        "# List of edges\n",
        "edges = []\n",
        "\n",
        "#Parse the file\n",
        "with open('mygraph.txt', 'r') as fp:\n",
        "  data = fp.readlines()\n",
        "\n",
        "  for line in data:\n",
        "    if line[0] == 'e':\n",
        "\n",
        "      # Parse nodes\n",
        "      n1, n2 = int(line.split(' ')[1]), int(line.split(' ')[2])\n",
        "\n",
        "      # Add nodes and edges\n",
        "      nodes.add(n1)\n",
        "      nodes.add(n2)\n",
        "      edges.append([n1,n2])\n",
        "\n",
        "\n",
        "# Test results\n",
        "print(nodes)\n",
        "print(edges)"
      ]
    },
    {
      "cell_type": "code",
      "execution_count": null,
      "metadata": {
        "id": "4leENjWtWmFH"
      },
      "outputs": [],
      "source": [
        "# Initialize the CSP\n",
        "p = Problem()\n",
        "\n",
        "# Assign CMAX\n",
        "cmax = 9\n",
        "\n",
        "# Create domain\n",
        "domain = range(1, cmax + 1)\n",
        "\n",
        "# Add the variables\n",
        "p.addVariables(nodes, domain)\n",
        "\n",
        "# Add constraints\n",
        "for edge in edges:\n",
        "  p.addConstraint(AllDifferentConstraint(), edge)\n",
        "\n",
        "\n",
        "print(p.getSolution())"
      ]
    },
    {
      "cell_type": "code",
      "execution_count": null,
      "metadata": {
        "id": "NV6SRJXi5lzH"
      },
      "outputs": [],
      "source": [
        "# Download and write the file\n",
        "with open('mygraph2.txt', 'w'):\n",
        "  gdown.download('https://drive.google.com/uc?id=1C9XR3emzfWF3-yN75i3LMvi_Ct2-uwqX', \"mygraph2.txt\")\n",
        "\n",
        "# List of Nodes\n",
        "nodes = set()\n",
        "\n",
        "# List of edges\n",
        "edges = []\n",
        "\n",
        "#Parse the file\n",
        "with open('mygraph2.txt', 'r') as fp:\n",
        "  data = fp.readlines()\n",
        "\n",
        "  for line in data:\n",
        "    if line[0] == 'e':\n",
        "\n",
        "      # Parse nodes\n",
        "      n1, n2 = int(line.split(' ')[1]), int(line.split(' ')[2])\n",
        "\n",
        "      # Add nodes and edges\n",
        "      nodes.add(n1)\n",
        "      nodes.add(n2)\n",
        "      edges.append([n1,n2])\n",
        "\n",
        "\n",
        "# Test results\n",
        "print(nodes)\n",
        "print(edges)"
      ]
    },
    {
      "cell_type": "code",
      "execution_count": null,
      "metadata": {
        "id": "XCDAyrl57Cii"
      },
      "outputs": [],
      "source": [
        "# Initialize the CSP\n",
        "p = Problem()\n",
        "\n",
        "# Assign CMAX\n",
        "cmax = 14\n",
        "\n",
        "# Create domain\n",
        "domain = range(1, cmax + 1)\n",
        "\n",
        "# Add the variables\n",
        "p.addVariables(nodes, domain)\n",
        "\n",
        "# Add constraints\n",
        "for edge in edges:\n",
        "  p.addConstraint(AllDifferentConstraint(), edge)\n",
        "\n",
        "print(p.getSolution())"
      ]
    },
    {
      "cell_type": "markdown",
      "metadata": {
        "id": "DhU1CjUqVyFq"
      },
      "source": [
        "#### Tested solutions for D\n",
        "128, 64, 32, 16, 8, 12, 10, 9\n",
        "\n",
        "9 is the lowest value that gave me an answer\n",
        "\n",
        "\n",
        "#### Tested solutions for F\n",
        "128, 64, 32, 16, 8, 12, 14, 13\n",
        "\n",
        "14 is the lowest value that gave me an answer"
      ]
    }
  ],
  "metadata": {
    "colab": {
      "private_outputs": true,
      "provenance": []
    },
    "kernelspec": {
      "display_name": "Python 3",
      "name": "python3"
    },
    "language_info": {
      "name": "python"
    }
  },
  "nbformat": 4,
  "nbformat_minor": 0
}
